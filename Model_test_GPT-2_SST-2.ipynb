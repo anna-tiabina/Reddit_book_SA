{
 "cells": [
  {
   "cell_type": "markdown",
   "id": "64e77522-37f8-4213-a706-bdd4893e538e",
   "metadata": {},
   "source": [
    "# Testing GPT-2 fine-tuned on SST-2"
   ]
  },
  {
   "cell_type": "code",
   "execution_count": 1,
   "id": "96e3c58a-700f-4af3-bc7b-811a564c48f3",
   "metadata": {},
   "outputs": [],
   "source": [
    "import torch\n",
    "from transformers import GPT2Tokenizer, GPT2ForSequenceClassification\n",
    "from datasets import load_dataset\n",
    "import numpy as np\n",
    "import evaluate\n",
    "from scipy.special import softmax\n",
    "from sklearn.metrics import recall_score\n",
    "from sklearn.metrics import precision_score\n",
    "import matplotlib.pyplot as plt\n",
    "import time"
   ]
  },
  {
   "cell_type": "code",
   "execution_count": 2,
   "id": "4e74817c-c1de-4a1e-ab62-8dfe93aaecb4",
   "metadata": {},
   "outputs": [],
   "source": [
    "tokenizer = GPT2Tokenizer.from_pretrained(\"michelecafagna26/gpt2-medium-finetuned-sst2-sentiment\")\n",
    "tokenizer.pad_token = tokenizer.eos_token"
   ]
  },
  {
   "cell_type": "code",
   "execution_count": 3,
   "id": "617123f9-2dc7-4a1a-8f87-8995668c801d",
   "metadata": {},
   "outputs": [],
   "source": [
    "dataset_test = load_dataset(\"csv\", data_files=\"books_test.csv\")"
   ]
  },
  {
   "cell_type": "code",
   "execution_count": 4,
   "id": "22309957-612b-420e-8cb2-5fe49b0a19dd",
   "metadata": {},
   "outputs": [],
   "source": [
    "device = torch.device('cuda')"
   ]
  },
  {
   "cell_type": "code",
   "execution_count": 5,
   "id": "4bde10f5-4853-4a23-bf7d-3199c65c94a4",
   "metadata": {},
   "outputs": [],
   "source": [
    "model = GPT2ForSequenceClassification.from_pretrained(\"michelecafagna26/gpt2-medium-finetuned-sst2-sentiment\").to(device)\n",
    "model.config.pad_token_id = model.config.eos_token_id\n"
   ]
  },
  {
   "cell_type": "code",
   "execution_count": 6,
   "id": "8b9e9015-0dd0-4a7a-8f4b-ba611bd091d5",
   "metadata": {},
   "outputs": [
    {
     "name": "stdout",
     "output_type": "stream",
     "text": [
      "Processing 0\n",
      "Processing 2\n",
      "Processing 4\n",
      "Processing 6\n",
      "Processing 8\n",
      "Processing 10\n",
      "Processing 12\n",
      "Processing 14\n",
      "Processing 16\n",
      "Processing 18\n",
      "Processing 20\n",
      "Processing 22\n",
      "Processing 24\n",
      "Processing 26\n",
      "Processing 28\n",
      "Processing 30\n",
      "Processing 32\n",
      "Processing 34\n",
      "Processing 36\n",
      "Processing 38\n",
      "Processing 40\n",
      "Processing 42\n",
      "Processing 44\n",
      "Processing 46\n",
      "Processing 48\n",
      "Processing 50\n",
      "Processing 52\n",
      "Processing 54\n",
      "Processing 56\n",
      "Processing 58\n",
      "Processing 60\n",
      "Processing 62\n",
      "Processing 64\n",
      "Processing 66\n",
      "Processing 68\n",
      "Processing 70\n",
      "Processing 72\n",
      "Processing 74\n",
      "Processing 76\n",
      "Processing 78\n",
      "Processing 80\n",
      "Processing 82\n",
      "Processing 84\n",
      "Processing 86\n",
      "Processing 88\n",
      "Processing 90\n",
      "Processing 92\n",
      "Processing 94\n",
      "Processing 96\n",
      "Processing 98\n"
     ]
    }
   ],
   "source": [
    "logits_list = []\n",
    "data = dataset_test['train']['body']\n",
    "batch_size = 2\n",
    "\n",
    "for start in range(0, len(data), batch_size):\n",
    "    print(\"Processing \" + str(start))\n",
    "    batch = data[start:start + batch_size]\n",
    "    # tokenize all first?\n",
    "    inputs = tokenizer(batch, truncation=True, return_tensors=\"pt\", padding=True).to(device)\n",
    "    with torch.no_grad():\n",
    "        logits_list.append(model(**inputs).logits)\n",
    "logits = torch.cat(logits_list)\n"
   ]
  },
  {
   "cell_type": "markdown",
   "id": "c890966a-8739-40b1-8077-efa6a5c171f1",
   "metadata": {},
   "source": [
    "## Calculating accuracy, precision, F1-score"
   ]
  },
  {
   "cell_type": "code",
   "execution_count": 1,
   "id": "90bf008d-7451-4263-8611-0b14cd42f52c",
   "metadata": {},
   "outputs": [
    {
     "ename": "NameError",
     "evalue": "name 'evaluate' is not defined",
     "output_type": "error",
     "traceback": [
      "\u001b[0;31m---------------------------------------------------------------------------\u001b[0m",
      "\u001b[0;31mNameError\u001b[0m                                 Traceback (most recent call last)",
      "Cell \u001b[0;32mIn[1], line 1\u001b[0m\n\u001b[0;32m----> 1\u001b[0m load_precision \u001b[38;5;241m=\u001b[39m \u001b[43mevaluate\u001b[49m\u001b[38;5;241m.\u001b[39mload(\u001b[38;5;124m\"\u001b[39m\u001b[38;5;124mprecision\u001b[39m\u001b[38;5;124m\"\u001b[39m)\n\u001b[1;32m      2\u001b[0m load_f1 \u001b[38;5;241m=\u001b[39m evaluate\u001b[38;5;241m.\u001b[39mload(\u001b[38;5;124m\"\u001b[39m\u001b[38;5;124mf1\u001b[39m\u001b[38;5;124m\"\u001b[39m)\n\u001b[1;32m      3\u001b[0m load_accuracy \u001b[38;5;241m=\u001b[39m evaluate\u001b[38;5;241m.\u001b[39mload(\u001b[38;5;124m\"\u001b[39m\u001b[38;5;124maccuracy\u001b[39m\u001b[38;5;124m\"\u001b[39m)\n",
      "\u001b[0;31mNameError\u001b[0m: name 'evaluate' is not defined"
     ]
    }
   ],
   "source": [
    "load_precision = evaluate.load(\"precision\")\n",
    "load_f1 = evaluate.load(\"f1\")\n",
    "load_accuracy = evaluate.load(\"accuracy\")\n",
    "labels = dataset_test['train']['label']\n",
    "predictions = np.argmax(logits.data.cpu().numpy(), axis=-1)\n",
    "precision = load_precision.compute(predictions=predictions, references=labels)\n",
    "accuracy = load_accuracy.compute(predictions=predictions, references=labels)\n",
    "f1 = load_f1.compute(predictions=predictions, references=labels)\n",
    "metrics = {\"accuracy\": accuracy, \"f1\": f1, \"precision\": precision}"
   ]
  },
  {
   "cell_type": "code",
   "execution_count": 21,
   "id": "01d6e681-0def-4c05-8cc7-429234a38c82",
   "metadata": {},
   "outputs": [
    {
     "name": "stdout",
     "output_type": "stream",
     "text": [
      "{'accuracy': {'accuracy': 0.78}, 'f1': {'f1': 0.8333333333333334}, 'precision': {'precision': 0.9166666666666666}}\n"
     ]
    }
   ],
   "source": [
    "print(metrics)"
   ]
  },
  {
   "cell_type": "markdown",
   "id": "998a486f-15c0-4651-a8cc-4d2a0147f6cb",
   "metadata": {},
   "source": [
    "### The accuracy is 0.78, F1-score is 0.8333333333333334, precision is 0.92"
   ]
  },
  {
   "cell_type": "code",
   "execution_count": 10,
   "id": "6818ecd1-2954-4520-94fc-bf217df0dd95",
   "metadata": {},
   "outputs": [],
   "source": [
    "#logits of the inference on the testing data\n",
    "sst_gpt_logits = logits.cpu().numpy()"
   ]
  },
  {
   "cell_type": "markdown",
   "id": "10bff052-af3a-42a3-a764-60e83c6c0e07",
   "metadata": {},
   "source": [
    "## PR curve: calculating precision and recall "
   ]
  },
  {
   "cell_type": "code",
   "execution_count": 11,
   "id": "4a1e4582-0985-40d0-a3e2-64ffc5359493",
   "metadata": {},
   "outputs": [],
   "source": [
    "y_true = np.array(dataset_test[\"train\"][\"label\"])\n",
    "sst_gpt_precision = []\n",
    "sst_gpt_recall = []\n",
    "sst_gpt_probabilities = softmax(sst_gpt_logits, axis=1)\n",
    "threshold = list(np.arange(0.0, 1, 0.001))\n",
    "for t in threshold:\n",
    "    y_scores = (sst_gpt_probabilities[:, 1] > t).astype(int)\n",
    "    sst_gpt_precision.append(precision_score(y_true, y_scores, zero_division=1))\n",
    "    sst_gpt_recall.append(recall_score(y_true, y_scores, zero_division=1))\n",
    "\n",
    "sst_gpt_precision.append(1)\n",
    "sst_gpt_recall.append(0)"
   ]
  },
  {
   "cell_type": "markdown",
   "id": "c4087736-c87f-43db-a9f6-a09a97e9ac0f",
   "metadata": {},
   "source": [
    "## Baseline model which always returns the most frequent class\n"
   ]
  },
  {
   "cell_type": "code",
   "execution_count": 12,
   "id": "0fcfcdcb-20ac-4cbb-9da5-ce98f482ca62",
   "metadata": {},
   "outputs": [],
   "source": [
    "y_score_baseline = np.ones(y_true.shape)\n",
    "baseline_precision = precision_score(y_true, y_score_baseline, zero_division=1)\n",
    "baseline_recall = recall_score(y_true, y_score_baseline, zero_division=1)"
   ]
  },
  {
   "cell_type": "markdown",
   "id": "744f5f16-e35f-4fdc-b915-c1d83982c628",
   "metadata": {},
   "source": [
    "## Plotting the PR curve"
   ]
  },
  {
   "cell_type": "code",
   "execution_count": 13,
   "id": "35666228-a51e-47a7-8633-4fd990bd7434",
   "metadata": {},
   "outputs": [
    {
     "data": {
      "text/plain": [
       "<matplotlib.legend.Legend at 0x707f3dd8bc50>"
      ]
     },
     "execution_count": 13,
     "metadata": {},
     "output_type": "execute_result"
    },
    {
     "data": {
      "image/png": "[encoded data removed]",
      "text/plain": [
       "<Figure size 640x480 with 1 Axes>"
      ]
     },
     "metadata": {},
     "output_type": "display_data"
    }
   ],
   "source": [
    "fig, ax = plt.subplots()\n",
    "ax.plot(sst_gpt_recall, sst_gpt_precision, '-', label='SST_GPT-2')\n",
    "ax.plot([baseline_recall], [baseline_precision], '*', label='Always 1')\n",
    "ax.set_xlabel('Recall')\n",
    "ax.set_ylabel('Precision')\n",
    "ax.set_xlim((0, 1.1))\n",
    "ax.set_ylim((0, 1.1))\n",
    "ax.legend()"
   ]
  },
  {
   "cell_type": "code",
   "execution_count": 14,
   "id": "3f983625-67b8-497b-a5a8-8544d123447d",
   "metadata": {},
   "outputs": [],
   "source": [
    "np.savetxt(\"sst_gpt_logits.csv\", sst_gpt_logits, delimiter = \",\")"
   ]
  },
  {
   "cell_type": "markdown",
   "id": "23226998-b743-49ac-82d8-5e145976c105",
   "metadata": {},
   "source": [
    "## Estimating inference time"
   ]
  },
  {
   "cell_type": "code",
   "execution_count": 18,
   "id": "a32402b3-b445-4a11-88d8-83b6149a1c87",
   "metadata": {},
   "outputs": [
    {
     "name": "stdout",
     "output_type": "stream",
     "text": [
      "Took 58.959 seconds\n"
     ]
    }
   ],
   "source": [
    "model_cpu = model.to(\"cpu\")\n",
    "time_start = time.perf_counter()\n",
    "\n",
    "for text in dataset_test[\"train\"][\"body\"]:\n",
    "        request = tokenizer(text, return_tensors=\"pt\", truncation=True, padding=True).to('cpu')\n",
    "        outputs = model_cpu(**request)\n",
    "\n",
    "time_end = time.perf_counter()\n",
    "    \n",
    "print(f'Took {(time_end - time_start):.3f} seconds')"
   ]
  },
  {
   "cell_type": "code",
   "execution_count": null,
   "id": "61cb667a-d157-459e-9200-e8cce8f83fce",
   "metadata": {},
   "outputs": [],
   "source": []
  }
 ],
 "metadata": {
  "kernelspec": {
   "display_name": "Python 3 (ipykernel)",
   "language": "python",
   "name": "python3"
  },
  "language_info": {
   "codemirror_mode": {
    "name": "ipython",
    "version": 3
   },
   "file_extension": ".py",
   "mimetype": "text/x-python",
   "name": "python",
   "nbconvert_exporter": "python",
   "pygments_lexer": "ipython3",
   "version": "3.12.3"
  }
 },
 "nbformat": 4,
 "nbformat_minor": 5
}
