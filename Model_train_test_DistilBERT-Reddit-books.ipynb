{
 "cells": [
  {
   "cell_type": "markdown",
   "id": "5bfdd857-1715-4955-8800-53208cb90bfd",
   "metadata": {},
   "source": [
    "## Training and testing of the DistilBert model on the train dataset (Reddit book reviews)"
   ]
  },
  {
   "cell_type": "code",
   "execution_count": 1,
   "id": "269b0ca4-a27f-4343-ac42-06cda6064d63",
   "metadata": {},
   "outputs": [],
   "source": [
    "from transformers import DataCollatorWithPadding\n",
    "from transformers import AutoTokenizer\n",
    "from transformers import AutoModelForSequenceClassification\n",
    "from datasets import load_dataset\n",
    "from transformers import TrainingArguments, Trainer\n",
    "from huggingface_hub import notebook_login\n",
    "import numpy as np\n",
    "import evaluate\n",
    "import torch\n",
    "from scipy.special import softmax\n",
    "from sklearn.metrics import recall_score\n",
    "from sklearn.metrics import precision_score\n",
    "import matplotlib.pyplot as plt\n",
    "import time\n"
   ]
  },
  {
   "cell_type": "code",
   "execution_count": 2,
   "id": "6eb4d7fe-2f7a-42d1-870a-01da15a8659e",
   "metadata": {},
   "outputs": [
    {
     "data": {
      "text/plain": [
       "<torch._C.Generator at 0x771b182f6b50>"
      ]
     },
     "execution_count": 2,
     "metadata": {},
     "output_type": "execute_result"
    }
   ],
   "source": [
    "torch.manual_seed(42)\n"
   ]
  },
  {
   "cell_type": "code",
   "execution_count": 3,
   "id": "a1f4b6a8-56ad-4a9e-8a34-3322c724579c",
   "metadata": {},
   "outputs": [],
   "source": [
    "train_dataset = load_dataset(\"csv\", data_files=\"books_train.csv\")[\"train\"]\n",
    "test_dataset = load_dataset(\"csv\", data_files=\"books_test.csv\")[\"train\"]"
   ]
  },
  {
   "cell_type": "code",
   "execution_count": 4,
   "id": "f98126e4-6974-4b44-8027-3f2495baf2c3",
   "metadata": {},
   "outputs": [],
   "source": [
    "tokenizer = AutoTokenizer.from_pretrained(\"distilbert-base-uncased\")"
   ]
  },
  {
   "cell_type": "code",
   "execution_count": 5,
   "id": "35ce7024-9069-4fb1-9ef2-795cc2a7abf7",
   "metadata": {},
   "outputs": [],
   "source": [
    "def preprocess_function(examples):\n",
    "   return tokenizer(examples[\"body\"], truncation=True)\n",
    " \n",
    "tokenized_train = train_dataset.map(preprocess_function, batched=True)\n",
    "tokenized_test = test_dataset.map(preprocess_function, batched=True)\n"
   ]
  },
  {
   "cell_type": "code",
   "execution_count": 6,
   "id": "e9775509-3184-46b4-99f9-426d93e130dc",
   "metadata": {},
   "outputs": [],
   "source": [
    "data_collator = DataCollatorWithPadding(tokenizer=tokenizer)"
   ]
  },
  {
   "cell_type": "code",
   "execution_count": 7,
   "id": "b2926586-a1d9-44c8-980f-b0cb7c98173f",
   "metadata": {},
   "outputs": [
    {
     "name": "stderr",
     "output_type": "stream",
     "text": [
      "Some weights of DistilBertForSequenceClassification were not initialized from the model checkpoint at distilbert-base-uncased and are newly initialized: ['classifier.bias', 'classifier.weight', 'pre_classifier.bias', 'pre_classifier.weight']\n",
      "You should probably TRAIN this model on a down-stream task to be able to use it for predictions and inference.\n"
     ]
    }
   ],
   "source": [
    "model = AutoModelForSequenceClassification.from_pretrained(\"distilbert-base-uncased\", num_labels=2)\n"
   ]
  },
  {
   "cell_type": "markdown",
   "id": "31871e11-5fa5-4436-bcfe-3b16637dcca8",
   "metadata": {},
   "source": [
    "## Identifying the metrics for training the model"
   ]
  },
  {
   "cell_type": "code",
   "execution_count": 8,
   "id": "82a677fb-722f-4e68-9320-9aaac45a9b3f",
   "metadata": {},
   "outputs": [],
   "source": [
    "def compute_metrics(eval_pred):\n",
    "   load_precision = evaluate.load(\"precision\")\n",
    "   load_f1 = evaluate.load(\"f1\")\n",
    "   logits, labels = eval_pred\n",
    "   predictions = np.argmax(logits, axis=-1)\n",
    "   precision = load_precision.compute(predictions=predictions, references=labels)\n",
    "   f1 = load_f1.compute(predictions=predictions, references=labels)\n",
    "   return {\"precision\": precision, \"f1\": f1}"
   ]
  },
  {
   "cell_type": "code",
   "execution_count": 9,
   "id": "5ebe3b22-a919-49eb-b58d-bb97335de702",
   "metadata": {},
   "outputs": [
    {
     "name": "stderr",
     "output_type": "stream",
     "text": [
      "/tmp/ipykernel_13075/2553017891.py:16: FutureWarning: `tokenizer` is deprecated and will be removed in version 5.0.0 for `Trainer.__init__`. Use `processing_class` instead.\n",
      "  trainer = Trainer(\n"
     ]
    }
   ],
   "source": [
    "repo_name = \"finetuning-distibert-Reddit-books\"\n",
    "training_args = TrainingArguments(\n",
    "   output_dir=repo_name,\n",
    "   learning_rate=5e-5,\n",
    "   per_device_train_batch_size=4,\n",
    "   per_device_eval_batch_size=4,\n",
    "   num_train_epochs=10,\n",
    "   weight_decay=0.05,\n",
    "   # save_strategy=\"steps\",\n",
    "   # push_to_hub=True,\n",
    "   logging_steps=10,  # Print loss every 10 steps\n",
    "   log_level=\"info\",\n",
    "   push_to_hub=False,\n",
    ")\n",
    " \n",
    "trainer = Trainer(\n",
    "   model=model,\n",
    "   args=training_args,\n",
    "   train_dataset=tokenized_train,\n",
    "   eval_dataset=tokenized_test,\n",
    "   tokenizer=tokenizer,\n",
    "   data_collator=data_collator,\n",
    "   compute_metrics=compute_metrics,\n",
    ")\n"
   ]
  },
  {
   "cell_type": "code",
   "execution_count": 10,
   "id": "72f64477-8b6f-43c7-96bf-f3078ac36965",
   "metadata": {},
   "outputs": [
    {
     "name": "stderr",
     "output_type": "stream",
     "text": [
      "The following columns in the training set don't have a corresponding argument in `DistilBertForSequenceClassification.forward` and have been ignored: body. If body are not expected by `DistilBertForSequenceClassification.forward`,  you can safely ignore this message.\n",
      "***** Running training *****\n",
      "  Num examples = 200\n",
      "  Num Epochs = 10\n",
      "  Instantaneous batch size per device = 4\n",
      "  Total train batch size (w. parallel, distributed & accumulation) = 4\n",
      "  Gradient Accumulation steps = 1\n",
      "  Total optimization steps = 500\n",
      "  Number of trainable parameters = 66,955,010\n"
     ]
    },
    {
     "data": {
      "text/html": [
       "\n",
       "    <div>\n",
       "      \n",
       "      <progress value='500' max='500' style='width:300px; height:20px; vertical-align: middle;'></progress>\n",
       "      [500/500 01:24, Epoch 10/10]\n",
       "    </div>\n",
       "    <table border=\"1\" class=\"dataframe\">\n",
       "  <thead>\n",
       " <tr style=\"text-align: left;\">\n",
       "      <th>Step</th>\n",
       "      <th>Training Loss</th>\n",
       "    </tr>\n",
       "  </thead>\n",
       "  <tbody>\n",
       "    <tr>\n",
       "      <td>10</td>\n",
       "      <td>0.551500</td>\n",
       "    </tr>\n",
       "    <tr>\n",
       "      <td>20</td>\n",
       "      <td>0.566500</td>\n",
       "    </tr>\n",
       "    <tr>\n",
       "      <td>30</td>\n",
       "      <td>0.553900</td>\n",
       "    </tr>\n",
       "    <tr>\n",
       "      <td>40</td>\n",
       "      <td>0.836500</td>\n",
       "    </tr>\n",
       "    <tr>\n",
       "      <td>50</td>\n",
       "      <td>0.658700</td>\n",
       "    </tr>\n",
       "    <tr>\n",
       "      <td>60</td>\n",
       "      <td>0.655300</td>\n",
       "    </tr>\n",
       "    <tr>\n",
       "      <td>70</td>\n",
       "      <td>0.620400</td>\n",
       "    </tr>\n",
       "    <tr>\n",
       "      <td>80</td>\n",
       "      <td>0.549700</td>\n",
       "    </tr>\n",
       "    <tr>\n",
       "      <td>90</td>\n",
       "      <td>0.700700</td>\n",
       "    </tr>\n",
       "    <tr>\n",
       "      <td>100</td>\n",
       "      <td>0.596800</td>\n",
       "    </tr>\n",
       "    <tr>\n",
       "      <td>110</td>\n",
       "      <td>0.473500</td>\n",
       "    </tr>\n",
       "    <tr>\n",
       "      <td>120</td>\n",
       "      <td>0.436000</td>\n",
       "    </tr>\n",
       "    <tr>\n",
       "      <td>130</td>\n",
       "      <td>0.507900</td>\n",
       "    </tr>\n",
       "    <tr>\n",
       "      <td>140</td>\n",
       "      <td>0.653600</td>\n",
       "    </tr>\n",
       "    <tr>\n",
       "      <td>150</td>\n",
       "      <td>0.324500</td>\n",
       "    </tr>\n",
       "    <tr>\n",
       "      <td>160</td>\n",
       "      <td>0.252000</td>\n",
       "    </tr>\n",
       "    <tr>\n",
       "      <td>170</td>\n",
       "      <td>0.311900</td>\n",
       "    </tr>\n",
       "    <tr>\n",
       "      <td>180</td>\n",
       "      <td>0.107800</td>\n",
       "    </tr>\n",
       "    <tr>\n",
       "      <td>190</td>\n",
       "      <td>0.324000</td>\n",
       "    </tr>\n",
       "    <tr>\n",
       "      <td>200</td>\n",
       "      <td>0.273600</td>\n",
       "    </tr>\n",
       "    <tr>\n",
       "      <td>210</td>\n",
       "      <td>0.021200</td>\n",
       "    </tr>\n",
       "    <tr>\n",
       "      <td>220</td>\n",
       "      <td>0.020300</td>\n",
       "    </tr>\n",
       "    <tr>\n",
       "      <td>230</td>\n",
       "      <td>0.006500</td>\n",
       "    </tr>\n",
       "    <tr>\n",
       "      <td>240</td>\n",
       "      <td>0.037600</td>\n",
       "    </tr>\n",
       "    <tr>\n",
       "      <td>250</td>\n",
       "      <td>0.159800</td>\n",
       "    </tr>\n",
       "    <tr>\n",
       "      <td>260</td>\n",
       "      <td>0.003100</td>\n",
       "    </tr>\n",
       "    <tr>\n",
       "      <td>270</td>\n",
       "      <td>0.004200</td>\n",
       "    </tr>\n",
       "    <tr>\n",
       "      <td>280</td>\n",
       "      <td>0.009800</td>\n",
       "    </tr>\n",
       "    <tr>\n",
       "      <td>290</td>\n",
       "      <td>0.001800</td>\n",
       "    </tr>\n",
       "    <tr>\n",
       "      <td>300</td>\n",
       "      <td>0.001900</td>\n",
       "    </tr>\n",
       "    <tr>\n",
       "      <td>310</td>\n",
       "      <td>0.001900</td>\n",
       "    </tr>\n",
       "    <tr>\n",
       "      <td>320</td>\n",
       "      <td>0.001500</td>\n",
       "    </tr>\n",
       "    <tr>\n",
       "      <td>330</td>\n",
       "      <td>0.001600</td>\n",
       "    </tr>\n",
       "    <tr>\n",
       "      <td>340</td>\n",
       "      <td>0.001500</td>\n",
       "    </tr>\n",
       "    <tr>\n",
       "      <td>350</td>\n",
       "      <td>0.001300</td>\n",
       "    </tr>\n",
       "    <tr>\n",
       "      <td>360</td>\n",
       "      <td>0.001300</td>\n",
       "    </tr>\n",
       "    <tr>\n",
       "      <td>370</td>\n",
       "      <td>0.001200</td>\n",
       "    </tr>\n",
       "    <tr>\n",
       "      <td>380</td>\n",
       "      <td>0.001200</td>\n",
       "    </tr>\n",
       "    <tr>\n",
       "      <td>390</td>\n",
       "      <td>0.001000</td>\n",
       "    </tr>\n",
       "    <tr>\n",
       "      <td>400</td>\n",
       "      <td>0.001000</td>\n",
       "    </tr>\n",
       "    <tr>\n",
       "      <td>410</td>\n",
       "      <td>0.001000</td>\n",
       "    </tr>\n",
       "    <tr>\n",
       "      <td>420</td>\n",
       "      <td>0.000900</td>\n",
       "    </tr>\n",
       "    <tr>\n",
       "      <td>430</td>\n",
       "      <td>0.000900</td>\n",
       "    </tr>\n",
       "    <tr>\n",
       "      <td>440</td>\n",
       "      <td>0.000900</td>\n",
       "    </tr>\n",
       "    <tr>\n",
       "      <td>450</td>\n",
       "      <td>0.001000</td>\n",
       "    </tr>\n",
       "    <tr>\n",
       "      <td>460</td>\n",
       "      <td>0.001000</td>\n",
       "    </tr>\n",
       "    <tr>\n",
       "      <td>470</td>\n",
       "      <td>0.001000</td>\n",
       "    </tr>\n",
       "    <tr>\n",
       "      <td>480</td>\n",
       "      <td>0.000900</td>\n",
       "    </tr>\n",
       "    <tr>\n",
       "      <td>490</td>\n",
       "      <td>0.000800</td>\n",
       "    </tr>\n",
       "    <tr>\n",
       "      <td>500</td>\n",
       "      <td>0.000900</td>\n",
       "    </tr>\n",
       "  </tbody>\n",
       "</table><p>"
      ],
      "text/plain": [
       "<IPython.core.display.HTML object>"
      ]
     },
     "metadata": {},
     "output_type": "display_data"
    },
    {
     "name": "stderr",
     "output_type": "stream",
     "text": [
      "Saving model checkpoint to finetuning-distibert-Reddit-books/checkpoint-500\n",
      "Configuration saved in finetuning-distibert-Reddit-books/checkpoint-500/config.json\n",
      "Model weights saved in finetuning-distibert-Reddit-books/checkpoint-500/model.safetensors\n",
      "tokenizer config file saved in finetuning-distibert-Reddit-books/checkpoint-500/tokenizer_config.json\n",
      "Special tokens file saved in finetuning-distibert-Reddit-books/checkpoint-500/special_tokens_map.json\n",
      "\n",
      "\n",
      "Training completed. Do not forget to share your model on huggingface.co/models =)\n",
      "\n",
      "\n"
     ]
    },
    {
     "data": {
      "text/plain": [
       "TrainOutput(global_step=500, training_loss=0.20488216817565263, metrics={'train_runtime': 84.6609, 'train_samples_per_second': 23.624, 'train_steps_per_second': 5.906, 'total_flos': 213337710633936.0, 'train_loss': 0.20488216817565263, 'epoch': 10.0})"
      ]
     },
     "execution_count": 10,
     "metadata": {},
     "output_type": "execute_result"
    }
   ],
   "source": [
    "trainer.train()"
   ]
  },
  {
   "cell_type": "code",
   "execution_count": 11,
   "id": "ac7f0727-072f-404d-971e-ee5f0e087921",
   "metadata": {},
   "outputs": [
    {
     "name": "stderr",
     "output_type": "stream",
     "text": [
      "The following columns in the evaluation set don't have a corresponding argument in `DistilBertForSequenceClassification.forward` and have been ignored: body. If body are not expected by `DistilBertForSequenceClassification.forward`,  you can safely ignore this message.\n",
      "\n",
      "***** Running Evaluation *****\n",
      "  Num examples = 100\n",
      "  Batch size = 4\n"
     ]
    },
    {
     "data": {
      "text/html": [
       "\n",
       "    <div>\n",
       "      \n",
       "      <progress value='50' max='25' style='width:300px; height:20px; vertical-align: middle;'></progress>\n",
       "      [25/25 00:04]\n",
       "    </div>\n",
       "    "
      ],
      "text/plain": [
       "<IPython.core.display.HTML object>"
      ]
     },
     "metadata": {},
     "output_type": "display_data"
    },
    {
     "data": {
      "text/plain": [
       "{'eval_loss': 1.7441729307174683,\n",
       " 'eval_precision': {'precision': 0.7738095238095238},\n",
       " 'eval_f1': {'f1': 0.8333333333333334},\n",
       " 'eval_runtime': 3.2367,\n",
       " 'eval_samples_per_second': 30.896,\n",
       " 'eval_steps_per_second': 7.724,\n",
       " 'epoch': 10.0}"
      ]
     },
     "execution_count": 11,
     "metadata": {},
     "output_type": "execute_result"
    }
   ],
   "source": [
    "trainer.evaluate()"
   ]
  },
  {
   "cell_type": "markdown",
   "id": "fb6120bc-8af9-47e4-a61b-6237d544ae96",
   "metadata": {},
   "source": [
    "## Calculating accuracy"
   ]
  },
  {
   "cell_type": "code",
   "execution_count": 13,
   "id": "4fe65b4e-e8a7-4e7a-97f2-d1fa4854eceb",
   "metadata": {},
   "outputs": [
    {
     "name": "stdout",
     "output_type": "stream",
     "text": [
      "{'accuracy': {'accuracy': 0.74}}\n"
     ]
    }
   ],
   "source": [
    "inputs = tokenizer(test_dataset['body'], truncation=True, return_tensors=\"pt\", padding=True).to(\"cpu\")\n",
    "model_cpu = model.to(\"cpu\")\n",
    "with torch.no_grad():\n",
    "    logits = model_cpu(**inputs).logits\n",
    "\n",
    "\n",
    "predictions = np.argmax(logits, axis=-1)\n",
    "labels = test_dataset[\"label\"]\n",
    "load_accuracy = evaluate.load(\"accuracy\")\n",
    "accuracy = load_accuracy.compute(predictions=predictions, references=labels)\n",
    "print({\"accuracy\": accuracy})"
   ]
  },
  {
   "cell_type": "markdown",
   "id": "d5900ab3-d3ba-4f1f-9c7a-43334add4a3a",
   "metadata": {},
   "source": [
    "### Accuracy is 0.74, precision is 0.77, F1-score is 0.83"
   ]
  },
  {
   "cell_type": "code",
   "execution_count": 14,
   "id": "f5f37368-1b5d-4495-aee1-d80862782103",
   "metadata": {},
   "outputs": [],
   "source": [
    "#logits of the inference on the testing data\n",
    "Reddit_dbert_logits = logits.numpy()"
   ]
  },
  {
   "cell_type": "markdown",
   "id": "36f37026-15f3-49ca-9a9e-f5b6b1b7a688",
   "metadata": {},
   "source": [
    "## PR curve: calculating precision and recall"
   ]
  },
  {
   "cell_type": "code",
   "execution_count": 15,
   "id": "defa28c8-aa98-4186-85cf-74e66ade1f04",
   "metadata": {},
   "outputs": [],
   "source": [
    "y_true = np.array(test_dataset[\"label\"])\n",
    "Reddit_dbert_precision = []\n",
    "Reddit_dbert_recall = []\n",
    "Reddit_dbert_probabilities = softmax(Reddit_dbert_logits, axis=1)\n",
    "threshold = list(np.arange(0.0, 1, 0.001))\n",
    "for t in threshold:\n",
    "    y_scores = (Reddit_dbert_probabilities[:, 1] > t).astype(int)\n",
    "    Reddit_dbert_precision.append(precision_score(y_true, y_scores, zero_division=1))\n",
    "    Reddit_dbert_recall.append(recall_score(y_true, y_scores, zero_division=1))\n",
    "\n",
    "Reddit_dbert_precision.append(1)\n",
    "Reddit_dbert_recall.append(0)"
   ]
  },
  {
   "cell_type": "markdown",
   "id": "d6d122b9-0e12-4dbd-9013-65fb78896707",
   "metadata": {},
   "source": [
    "## Baseline model which always returns the most frequent class\n"
   ]
  },
  {
   "cell_type": "code",
   "execution_count": 16,
   "id": "71a89548-08ec-4fad-8f42-46a1db878937",
   "metadata": {},
   "outputs": [],
   "source": [
    "y_score_baseline = np.ones(y_true.shape)\n",
    "baseline_precision = precision_score(y_true, y_score_baseline, zero_division=1)\n",
    "baseline_recall = recall_score(y_true, y_score_baseline, zero_division=1)"
   ]
  },
  {
   "cell_type": "markdown",
   "id": "80dfd9e1-c217-4961-8338-6e71abb4e35d",
   "metadata": {},
   "source": [
    "## Plotting the PR curve"
   ]
  },
  {
   "cell_type": "code",
   "execution_count": 17,
   "id": "b0b905b5-c253-4302-bbd5-e3738998c640",
   "metadata": {},
   "outputs": [
    {
     "data": {
      "text/plain": [
       "<matplotlib.legend.Legend at 0x7719cbb92690>"
      ]
     },
     "execution_count": 17,
     "metadata": {},
     "output_type": "execute_result"
    },
    {
     "data": {
      "image/png": "[encoded data removed]",
      "text/plain": [
       "<Figure size 640x480 with 1 Axes>"
      ]
     },
     "metadata": {},
     "output_type": "display_data"
    }
   ],
   "source": [
    "fig, ax = plt.subplots()\n",
    "ax.plot(Reddit_dbert_recall, Reddit_dbert_precision, '-', label='Reddit_dbert')\n",
    "ax.plot([baseline_recall], [baseline_precision], '*', label='Always 1')\n",
    "ax.set_xlabel('Recall')\n",
    "ax.set_ylabel('Precision')\n",
    "ax.set_xlim((0, 1.1))\n",
    "ax.set_ylim((0, 1.1))\n",
    "ax.legend()"
   ]
  },
  {
   "cell_type": "code",
   "execution_count": 18,
   "id": "bbe32ea7-1977-4f83-b3f3-2412f086a40d",
   "metadata": {},
   "outputs": [],
   "source": [
    "np.savetxt(\"Reddit_dbert_logits.csv\", Reddit_dbert_logits, delimiter = \",\")"
   ]
  },
  {
   "cell_type": "markdown",
   "id": "7783dfdc-90a0-43de-8ae4-06b3da535ae5",
   "metadata": {},
   "source": [
    "## Estimating inference time"
   ]
  },
  {
   "cell_type": "code",
   "execution_count": 19,
   "id": "ad324067-fb7b-43fa-a105-dfcf72114d09",
   "metadata": {},
   "outputs": [
    {
     "name": "stdout",
     "output_type": "stream",
     "text": [
      "Took 6.206 seconds\n"
     ]
    }
   ],
   "source": [
    "time_start = time.perf_counter()\n",
    "model_cpu = model.to(\"cpu\")\n",
    "\n",
    "for text in test_dataset[\"body\"]:\n",
    "        request = tokenizer(text, return_tensors=\"pt\", truncation=True, padding=True).to('cpu')\n",
    "        outputs = model_cpu(**request)\n",
    "\n",
    "time_end = time.perf_counter()\n",
    "    \n",
    "print(f'Took {(time_end - time_start):.3f} seconds')"
   ]
  },
  {
   "cell_type": "code",
   "execution_count": null,
   "id": "e9859fdf-a626-4743-a5ed-4487bf5fe9b7",
   "metadata": {},
   "outputs": [],
   "source": []
  }
 ],
 "metadata": {
  "kernelspec": {
   "display_name": "Python 3 (ipykernel)",
   "language": "python",
   "name": "python3"
  },
  "language_info": {
   "codemirror_mode": {
    "name": "ipython",
    "version": 3
   },
   "file_extension": ".py",
   "mimetype": "text/x-python",
   "name": "python",
   "nbconvert_exporter": "python",
   "pygments_lexer": "ipython3",
   "version": "3.12.3"
  }
 },
 "nbformat": 4,
 "nbformat_minor": 5
}
