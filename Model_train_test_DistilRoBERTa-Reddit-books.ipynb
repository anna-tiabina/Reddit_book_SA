{
 "cells": [
  {
   "cell_type": "markdown",
   "id": "669a4902-fe4b-4fb0-8bb8-ee337a4e5c05",
   "metadata": {},
   "source": [
    "# Training and testing of the Distilroberta model on the train dataset (Reddit book reviews)"
   ]
  },
  {
   "cell_type": "code",
   "execution_count": 1,
   "id": "fcfa5b19",
   "metadata": {},
   "outputs": [],
   "source": [
    "from transformers import DataCollatorWithPadding,TrainingArguments, Trainer, AutoTokenizer, RobertaForSequenceClassification\n",
    "from transformers import AutoModelForSequenceClassification\n",
    "from datasets import load_dataset\n",
    "from huggingface_hub import notebook_login\n",
    "import numpy as np\n",
    "import evaluate\n",
    "import torch._dynamo\n",
    "from scipy.special import softmax\n",
    "from sklearn.metrics import recall_score\n",
    "from sklearn.metrics import precision_score\n",
    "import matplotlib.pyplot as plt\n",
    "import time\n"
   ]
  },
  {
   "cell_type": "code",
   "execution_count": 2,
   "id": "37ad02b2-6cfe-496c-8b1e-f99cf75c7852",
   "metadata": {},
   "outputs": [
    {
     "data": {
      "text/plain": [
       "<torch._C.Generator at 0x71c540ee6b50>"
      ]
     },
     "execution_count": 2,
     "metadata": {},
     "output_type": "execute_result"
    }
   ],
   "source": [
    "torch.manual_seed(42)"
   ]
  },
  {
   "cell_type": "code",
   "execution_count": 3,
   "id": "b07e866f",
   "metadata": {},
   "outputs": [],
   "source": [
    "train_dataset = load_dataset(\"csv\", data_files=\"books_train.csv\")[\"train\"]\n",
    "test_dataset = load_dataset(\"csv\", data_files=\"books_test.csv\")[\"train\"]"
   ]
  },
  {
   "cell_type": "code",
   "execution_count": 4,
   "id": "d9685ffb",
   "metadata": {},
   "outputs": [],
   "source": [
    "tokenizer = AutoTokenizer.from_pretrained('distilroberta-base')"
   ]
  },
  {
   "cell_type": "code",
   "execution_count": 5,
   "id": "eb2f9e6d-6685-4002-82b7-345c60f29188",
   "metadata": {},
   "outputs": [],
   "source": [
    "device = torch.device('cuda')"
   ]
  },
  {
   "cell_type": "code",
   "execution_count": 6,
   "id": "e55ea321-18c0-406c-8c20-1fabe66a6954",
   "metadata": {},
   "outputs": [],
   "source": [
    "def preprocess_function(examples):\n",
    "    inputs = tokenizer(examples[\"body\"], truncation=True).to(device)\n",
    "    return inputs\n",
    " \n",
    "tokenized_train = train_dataset.map(preprocess_function, batched=True)\n",
    "tokenized_test = test_dataset.map(preprocess_function, batched=True)"
   ]
  },
  {
   "cell_type": "code",
   "execution_count": 7,
   "id": "07115192-3fca-4797-b482-bddcb76d3d2e",
   "metadata": {},
   "outputs": [],
   "source": [
    "data_collator = DataCollatorWithPadding(tokenizer=tokenizer)"
   ]
  },
  {
   "cell_type": "code",
   "execution_count": 8,
   "id": "55488654-b35a-44b6-87e4-6eb8a350a200",
   "metadata": {},
   "outputs": [
    {
     "name": "stderr",
     "output_type": "stream",
     "text": [
      "Some weights of RobertaForSequenceClassification were not initialized from the model checkpoint at distilroberta-base and are newly initialized: ['classifier.dense.bias', 'classifier.dense.weight', 'classifier.out_proj.bias', 'classifier.out_proj.weight']\n",
      "You should probably TRAIN this model on a down-stream task to be able to use it for predictions and inference.\n"
     ]
    }
   ],
   "source": [
    "model = RobertaForSequenceClassification.from_pretrained('distilroberta-base', num_labels=2).to(device)\n"
   ]
  },
  {
   "cell_type": "markdown",
   "id": "5f0651ae-0205-496f-8267-3f57fe0d106d",
   "metadata": {},
   "source": [
    "## Identifying the metrics for training the model¶"
   ]
  },
  {
   "cell_type": "code",
   "execution_count": 9,
   "id": "af9f3dc4-9f1d-42ff-b201-7b1ce2f2fb93",
   "metadata": {},
   "outputs": [],
   "source": [
    "def compute_metrics(eval_pred):\n",
    "   load_precision = evaluate.load(\"precision\")\n",
    "   load_f1 = evaluate.load(\"f1\")\n",
    "   logits, labels = eval_pred\n",
    "   predictions = np.argmax(logits, axis=-1)\n",
    "   precision = load_precision.compute(predictions=predictions, references=labels)\n",
    "   f1 = load_f1.compute(predictions=predictions, references=labels)\n",
    "   return {\"precision\": precision, \"f1\": f1}"
   ]
  },
  {
   "cell_type": "code",
   "execution_count": 10,
   "id": "b5382144-e0bf-4930-80e2-edfaef01e9a9",
   "metadata": {},
   "outputs": [
    {
     "name": "stderr",
     "output_type": "stream",
     "text": [
      "/tmp/ipykernel_13622/4175164034.py:16: FutureWarning: `tokenizer` is deprecated and will be removed in version 5.0.0 for `Trainer.__init__`. Use `processing_class` instead.\n",
      "  trainer = Trainer(\n"
     ]
    }
   ],
   "source": [
    "repo_name = \"finetuning-DistilRoberta-Reddit-books\"\n",
    "training_args = TrainingArguments(\n",
    "   output_dir=repo_name,\n",
    "   learning_rate=2e-5,\n",
    "   per_device_train_batch_size=2,\n",
    "   per_device_eval_batch_size=2,\n",
    "   num_train_epochs=7,\n",
    "   weight_decay=0.05,\n",
    "   # max_steps = 10,\n",
    "   save_strategy=\"no\",\n",
    "   push_to_hub=False,\n",
    "   logging_steps=10,  # Print loss every 10 steps\n",
    "   log_level=\"info\",\n",
    ")\n",
    " \n",
    "trainer = Trainer(\n",
    "   model=model,\n",
    "   args=training_args,\n",
    "   train_dataset=tokenized_train,\n",
    "   eval_dataset=tokenized_test,\n",
    "   tokenizer=tokenizer,\n",
    "   data_collator=data_collator,\n",
    "   compute_metrics=compute_metrics,\n",
    ")\n"
   ]
  },
  {
   "cell_type": "code",
   "execution_count": 11,
   "id": "26ca63b7-d282-4e30-95c4-ad446ae1cfc3",
   "metadata": {},
   "outputs": [
    {
     "name": "stderr",
     "output_type": "stream",
     "text": [
      "The following columns in the training set don't have a corresponding argument in `RobertaForSequenceClassification.forward` and have been ignored: body. If body are not expected by `RobertaForSequenceClassification.forward`,  you can safely ignore this message.\n",
      "***** Running training *****\n",
      "  Num examples = 200\n",
      "  Num Epochs = 7\n",
      "  Instantaneous batch size per device = 2\n",
      "  Total train batch size (w. parallel, distributed & accumulation) = 2\n",
      "  Gradient Accumulation steps = 1\n",
      "  Total optimization steps = 700\n",
      "  Number of trainable parameters = 82,119,938\n"
     ]
    },
    {
     "data": {
      "text/html": [
       "\n",
       "    <div>\n",
       "      \n",
       "      <progress value='700' max='700' style='width:300px; height:20px; vertical-align: middle;'></progress>\n",
       "      [700/700 01:04, Epoch 7/7]\n",
       "    </div>\n",
       "    <table border=\"1\" class=\"dataframe\">\n",
       "  <thead>\n",
       " <tr style=\"text-align: left;\">\n",
       "      <th>Step</th>\n",
       "      <th>Training Loss</th>\n",
       "    </tr>\n",
       "  </thead>\n",
       "  <tbody>\n",
       "    <tr>\n",
       "      <td>10</td>\n",
       "      <td>0.704100</td>\n",
       "    </tr>\n",
       "    <tr>\n",
       "      <td>20</td>\n",
       "      <td>0.464000</td>\n",
       "    </tr>\n",
       "    <tr>\n",
       "      <td>30</td>\n",
       "      <td>0.645500</td>\n",
       "    </tr>\n",
       "    <tr>\n",
       "      <td>40</td>\n",
       "      <td>1.130700</td>\n",
       "    </tr>\n",
       "    <tr>\n",
       "      <td>50</td>\n",
       "      <td>1.390200</td>\n",
       "    </tr>\n",
       "    <tr>\n",
       "      <td>60</td>\n",
       "      <td>0.612500</td>\n",
       "    </tr>\n",
       "    <tr>\n",
       "      <td>70</td>\n",
       "      <td>1.529600</td>\n",
       "    </tr>\n",
       "    <tr>\n",
       "      <td>80</td>\n",
       "      <td>0.862200</td>\n",
       "    </tr>\n",
       "    <tr>\n",
       "      <td>90</td>\n",
       "      <td>0.691600</td>\n",
       "    </tr>\n",
       "    <tr>\n",
       "      <td>100</td>\n",
       "      <td>0.513000</td>\n",
       "    </tr>\n",
       "    <tr>\n",
       "      <td>110</td>\n",
       "      <td>0.867100</td>\n",
       "    </tr>\n",
       "    <tr>\n",
       "      <td>120</td>\n",
       "      <td>0.793000</td>\n",
       "    </tr>\n",
       "    <tr>\n",
       "      <td>130</td>\n",
       "      <td>0.949100</td>\n",
       "    </tr>\n",
       "    <tr>\n",
       "      <td>140</td>\n",
       "      <td>0.899100</td>\n",
       "    </tr>\n",
       "    <tr>\n",
       "      <td>150</td>\n",
       "      <td>0.685100</td>\n",
       "    </tr>\n",
       "    <tr>\n",
       "      <td>160</td>\n",
       "      <td>0.785400</td>\n",
       "    </tr>\n",
       "    <tr>\n",
       "      <td>170</td>\n",
       "      <td>1.549700</td>\n",
       "    </tr>\n",
       "    <tr>\n",
       "      <td>180</td>\n",
       "      <td>0.956400</td>\n",
       "    </tr>\n",
       "    <tr>\n",
       "      <td>190</td>\n",
       "      <td>0.512400</td>\n",
       "    </tr>\n",
       "    <tr>\n",
       "      <td>200</td>\n",
       "      <td>0.505600</td>\n",
       "    </tr>\n",
       "    <tr>\n",
       "      <td>210</td>\n",
       "      <td>0.505900</td>\n",
       "    </tr>\n",
       "    <tr>\n",
       "      <td>220</td>\n",
       "      <td>0.257500</td>\n",
       "    </tr>\n",
       "    <tr>\n",
       "      <td>230</td>\n",
       "      <td>0.381600</td>\n",
       "    </tr>\n",
       "    <tr>\n",
       "      <td>240</td>\n",
       "      <td>0.508600</td>\n",
       "    </tr>\n",
       "    <tr>\n",
       "      <td>250</td>\n",
       "      <td>0.667700</td>\n",
       "    </tr>\n",
       "    <tr>\n",
       "      <td>260</td>\n",
       "      <td>0.403400</td>\n",
       "    </tr>\n",
       "    <tr>\n",
       "      <td>270</td>\n",
       "      <td>0.831400</td>\n",
       "    </tr>\n",
       "    <tr>\n",
       "      <td>280</td>\n",
       "      <td>1.171100</td>\n",
       "    </tr>\n",
       "    <tr>\n",
       "      <td>290</td>\n",
       "      <td>0.301200</td>\n",
       "    </tr>\n",
       "    <tr>\n",
       "      <td>300</td>\n",
       "      <td>0.403400</td>\n",
       "    </tr>\n",
       "    <tr>\n",
       "      <td>310</td>\n",
       "      <td>0.003400</td>\n",
       "    </tr>\n",
       "    <tr>\n",
       "      <td>320</td>\n",
       "      <td>1.555600</td>\n",
       "    </tr>\n",
       "    <tr>\n",
       "      <td>330</td>\n",
       "      <td>0.249600</td>\n",
       "    </tr>\n",
       "    <tr>\n",
       "      <td>340</td>\n",
       "      <td>0.251400</td>\n",
       "    </tr>\n",
       "    <tr>\n",
       "      <td>350</td>\n",
       "      <td>0.003600</td>\n",
       "    </tr>\n",
       "    <tr>\n",
       "      <td>360</td>\n",
       "      <td>0.003200</td>\n",
       "    </tr>\n",
       "    <tr>\n",
       "      <td>370</td>\n",
       "      <td>0.446900</td>\n",
       "    </tr>\n",
       "    <tr>\n",
       "      <td>380</td>\n",
       "      <td>0.094500</td>\n",
       "    </tr>\n",
       "    <tr>\n",
       "      <td>390</td>\n",
       "      <td>0.545500</td>\n",
       "    </tr>\n",
       "    <tr>\n",
       "      <td>400</td>\n",
       "      <td>0.001700</td>\n",
       "    </tr>\n",
       "    <tr>\n",
       "      <td>410</td>\n",
       "      <td>0.001500</td>\n",
       "    </tr>\n",
       "    <tr>\n",
       "      <td>420</td>\n",
       "      <td>0.235100</td>\n",
       "    </tr>\n",
       "    <tr>\n",
       "      <td>430</td>\n",
       "      <td>0.209000</td>\n",
       "    </tr>\n",
       "    <tr>\n",
       "      <td>440</td>\n",
       "      <td>0.421900</td>\n",
       "    </tr>\n",
       "    <tr>\n",
       "      <td>450</td>\n",
       "      <td>0.001200</td>\n",
       "    </tr>\n",
       "    <tr>\n",
       "      <td>460</td>\n",
       "      <td>0.289800</td>\n",
       "    </tr>\n",
       "    <tr>\n",
       "      <td>470</td>\n",
       "      <td>0.001400</td>\n",
       "    </tr>\n",
       "    <tr>\n",
       "      <td>480</td>\n",
       "      <td>0.001100</td>\n",
       "    </tr>\n",
       "    <tr>\n",
       "      <td>490</td>\n",
       "      <td>0.001200</td>\n",
       "    </tr>\n",
       "    <tr>\n",
       "      <td>500</td>\n",
       "      <td>0.179900</td>\n",
       "    </tr>\n",
       "    <tr>\n",
       "      <td>510</td>\n",
       "      <td>0.135200</td>\n",
       "    </tr>\n",
       "    <tr>\n",
       "      <td>520</td>\n",
       "      <td>0.001100</td>\n",
       "    </tr>\n",
       "    <tr>\n",
       "      <td>530</td>\n",
       "      <td>0.000800</td>\n",
       "    </tr>\n",
       "    <tr>\n",
       "      <td>540</td>\n",
       "      <td>0.000900</td>\n",
       "    </tr>\n",
       "    <tr>\n",
       "      <td>550</td>\n",
       "      <td>0.000900</td>\n",
       "    </tr>\n",
       "    <tr>\n",
       "      <td>560</td>\n",
       "      <td>0.001300</td>\n",
       "    </tr>\n",
       "    <tr>\n",
       "      <td>570</td>\n",
       "      <td>0.106300</td>\n",
       "    </tr>\n",
       "    <tr>\n",
       "      <td>580</td>\n",
       "      <td>0.160400</td>\n",
       "    </tr>\n",
       "    <tr>\n",
       "      <td>590</td>\n",
       "      <td>0.000700</td>\n",
       "    </tr>\n",
       "    <tr>\n",
       "      <td>600</td>\n",
       "      <td>0.000900</td>\n",
       "    </tr>\n",
       "    <tr>\n",
       "      <td>610</td>\n",
       "      <td>0.000900</td>\n",
       "    </tr>\n",
       "    <tr>\n",
       "      <td>620</td>\n",
       "      <td>0.000600</td>\n",
       "    </tr>\n",
       "    <tr>\n",
       "      <td>630</td>\n",
       "      <td>0.000600</td>\n",
       "    </tr>\n",
       "    <tr>\n",
       "      <td>640</td>\n",
       "      <td>0.000600</td>\n",
       "    </tr>\n",
       "    <tr>\n",
       "      <td>650</td>\n",
       "      <td>0.000600</td>\n",
       "    </tr>\n",
       "    <tr>\n",
       "      <td>660</td>\n",
       "      <td>0.000800</td>\n",
       "    </tr>\n",
       "    <tr>\n",
       "      <td>670</td>\n",
       "      <td>0.000600</td>\n",
       "    </tr>\n",
       "    <tr>\n",
       "      <td>680</td>\n",
       "      <td>0.000700</td>\n",
       "    </tr>\n",
       "    <tr>\n",
       "      <td>690</td>\n",
       "      <td>0.000600</td>\n",
       "    </tr>\n",
       "    <tr>\n",
       "      <td>700</td>\n",
       "      <td>0.000800</td>\n",
       "    </tr>\n",
       "  </tbody>\n",
       "</table><p>"
      ],
      "text/plain": [
       "<IPython.core.display.HTML object>"
      ]
     },
     "metadata": {},
     "output_type": "display_data"
    },
    {
     "name": "stderr",
     "output_type": "stream",
     "text": [
      "\n",
      "\n",
      "Training completed. Do not forget to share your model on huggingface.co/models =)\n",
      "\n",
      "\n"
     ]
    },
    {
     "data": {
      "text/plain": [
       "TrainOutput(global_step=700, training_loss=0.39130142328528955, metrics={'train_runtime': 64.869, 'train_samples_per_second': 21.582, 'train_steps_per_second': 10.791, 'total_flos': 124792051295592.0, 'train_loss': 0.39130142328528955, 'epoch': 7.0})"
      ]
     },
     "execution_count": 11,
     "metadata": {},
     "output_type": "execute_result"
    }
   ],
   "source": [
    "trainer.train()"
   ]
  },
  {
   "cell_type": "code",
   "execution_count": 12,
   "id": "83aa5c8b-070d-47c0-9fbe-4cc786bc3d2e",
   "metadata": {},
   "outputs": [
    {
     "name": "stderr",
     "output_type": "stream",
     "text": [
      "The following columns in the evaluation set don't have a corresponding argument in `RobertaForSequenceClassification.forward` and have been ignored: body. If body are not expected by `RobertaForSequenceClassification.forward`,  you can safely ignore this message.\n",
      "\n",
      "***** Running Evaluation *****\n",
      "  Num examples = 100\n",
      "  Batch size = 2\n"
     ]
    },
    {
     "data": {
      "text/html": [
       "\n",
       "    <div>\n",
       "      \n",
       "      <progress value='50' max='50' style='width:300px; height:20px; vertical-align: middle;'></progress>\n",
       "      [50/50 00:00]\n",
       "    </div>\n",
       "    "
      ],
      "text/plain": [
       "<IPython.core.display.HTML object>"
      ]
     },
     "metadata": {},
     "output_type": "display_data"
    },
    {
     "data": {
      "text/plain": [
       "{'eval_loss': 1.3915847539901733,\n",
       " 'eval_precision': {'precision': 0.8676470588235294},\n",
       " 'eval_f1': {'f1': 0.8428571428571429},\n",
       " 'eval_runtime': 2.7601,\n",
       " 'eval_samples_per_second': 36.23,\n",
       " 'eval_steps_per_second': 18.115,\n",
       " 'epoch': 7.0}"
      ]
     },
     "execution_count": 12,
     "metadata": {},
     "output_type": "execute_result"
    }
   ],
   "source": [
    "trainer.evaluate()"
   ]
  },
  {
   "cell_type": "markdown",
   "id": "341820b7-a40f-4b8c-9d8f-16760cfceeed",
   "metadata": {},
   "source": [
    "## Calculating accuracy"
   ]
  },
  {
   "cell_type": "code",
   "execution_count": 13,
   "id": "ed15d441-b03e-43d0-aab6-cf6c09f5bbae",
   "metadata": {},
   "outputs": [
    {
     "name": "stdout",
     "output_type": "stream",
     "text": [
      "{'accuracy': {'accuracy': 0.78}}\n"
     ]
    }
   ],
   "source": [
    "inputs = tokenizer(test_dataset['body'], truncation=True, return_tensors=\"pt\", padding=True).to(\"cpu\")\n",
    "model_cpu = model.to(\"cpu\")\n",
    "with torch.no_grad():\n",
    "    logits = model_cpu(**inputs).logits\n",
    "\n",
    "\n",
    "predictions = np.argmax(logits, axis=-1)\n",
    "labels = test_dataset[\"label\"]\n",
    "load_accuracy = evaluate.load(\"accuracy\")\n",
    "accuracy = load_accuracy.compute(predictions=predictions, references=labels)\n",
    "print({\"accuracy\": accuracy})"
   ]
  },
  {
   "cell_type": "code",
   "execution_count": 14,
   "id": "5e813e39-9d9d-4656-b356-90de498011c3",
   "metadata": {},
   "outputs": [
    {
     "data": {
      "text/plain": [
       "tensor([0, 1, 1, 0, 1, 0, 1, 1, 1, 1, 1, 1, 1, 0, 1, 1, 1, 1, 1, 1, 1, 1, 1, 1,\n",
       "        1, 1, 1, 0, 1, 1, 1, 0, 0, 1, 0, 1, 0, 1, 0, 0, 1, 1, 0, 0, 1, 1, 1, 1,\n",
       "        1, 1, 1, 1, 1, 0, 1, 1, 0, 1, 1, 0, 1, 1, 0, 1, 1, 0, 0, 1, 0, 1, 0, 1,\n",
       "        1, 1, 1, 0, 1, 0, 0, 1, 1, 0, 1, 0, 1, 0, 0, 1, 1, 1, 1, 0, 0, 0, 1, 1,\n",
       "        0, 1, 1, 1])"
      ]
     },
     "execution_count": 14,
     "metadata": {},
     "output_type": "execute_result"
    }
   ],
   "source": [
    "predictions"
   ]
  },
  {
   "cell_type": "markdown",
   "id": "1e5f5ac6-2981-4940-8f5c-df16a29292e4",
   "metadata": {},
   "source": [
    "### Accuracy is 0.78, F1-score is 0.84, precision is 0.87"
   ]
  },
  {
   "cell_type": "code",
   "execution_count": 15,
   "id": "94d4cc29-390e-43e8-b998-d0243d480197",
   "metadata": {},
   "outputs": [],
   "source": [
    "#logits of the inference on the testing data\n",
    "Reddit_roberta_logits = logits.numpy()"
   ]
  },
  {
   "cell_type": "code",
   "execution_count": 16,
   "id": "e448ff36-43d9-47eb-8c80-321383d9190d",
   "metadata": {},
   "outputs": [],
   "source": [
    "y_true = np.array(test_dataset[\"label\"])\n",
    "y_score_baseline = np.ones(y_true.shape)\n",
    "baseline_precision = precision_score(y_true, y_score_baseline, zero_division=1)\n",
    "baseline_recall = recall_score(y_true, y_score_baseline, zero_division=1)"
   ]
  },
  {
   "cell_type": "markdown",
   "id": "26e9fcea-16bc-4ee3-8e9a-2d1583d7bbb9",
   "metadata": {},
   "source": [
    "## PR curve: calculating precision and recall"
   ]
  },
  {
   "cell_type": "code",
   "execution_count": 17,
   "id": "9be76fac-84b4-4939-938e-412ac53adf59",
   "metadata": {},
   "outputs": [],
   "source": [
    "y_true = np.array(test_dataset[\"label\"])\n",
    "Reddit_roberta_precision = []\n",
    "Reddit_roberta_recall = []\n",
    "Reddit_roberta_probabilities = softmax(Reddit_roberta_logits, axis=1)\n",
    "threshold = list(np.arange(0.0, 1, 0.001))\n",
    "threshold.append(1-1e-5)\n",
    "for t in threshold:\n",
    "    y_scores = (Reddit_roberta_probabilities[:, 1] > t).astype(int)\n",
    "    Reddit_roberta_precision.append(precision_score(y_true, y_scores, zero_division=1))\n",
    "    Reddit_roberta_recall.append(recall_score(y_true, y_scores, zero_division=1))\n",
    "\n",
    "Reddit_roberta_precision.append(1)\n",
    "Reddit_roberta_recall.append(0)"
   ]
  },
  {
   "cell_type": "code",
   "execution_count": 18,
   "id": "1e0cc589-6645-4ea5-94c7-46c504352764",
   "metadata": {},
   "outputs": [
    {
     "data": {
      "text/plain": [
       "<matplotlib.legend.Legend at 0x71c3f5f154c0>"
      ]
     },
     "execution_count": 18,
     "metadata": {},
     "output_type": "execute_result"
    },
    {
     "data": {
      "image/png": "[encoded data removed]",
      "text/plain": [
       "<Figure size 640x480 with 1 Axes>"
      ]
     },
     "metadata": {},
     "output_type": "display_data"
    }
   ],
   "source": [
    "fig, ax = plt.subplots()\n",
    "ax.plot(Reddit_roberta_recall, Reddit_roberta_precision, '-', label=\"Reddit_Roberta\")\n",
    "ax.plot([baseline_recall], [baseline_precision], '*', label='Always 1')\n",
    "ax.set_xlabel('Recall')\n",
    "ax.set_ylabel('Precision')\n",
    "ax.set_xlim((0, 1.1))\n",
    "ax.set_ylim((0, 1.1))\n",
    "ax.legend()"
   ]
  },
  {
   "cell_type": "code",
   "execution_count": 19,
   "id": "96482b7a-e7d3-4074-a7fd-9d19b56b4d73",
   "metadata": {},
   "outputs": [],
   "source": [
    "np.savetxt(\"Reddit_roberta_logits.csv\", Reddit_roberta_logits, delimiter = \",\")"
   ]
  },
  {
   "cell_type": "markdown",
   "id": "85a4d789-bcfb-41d8-8258-d899ac119dab",
   "metadata": {},
   "source": [
    "## Estimating inference time"
   ]
  },
  {
   "cell_type": "code",
   "execution_count": 20,
   "id": "f7ea1607-b769-42ad-bd79-fa15b88f60f9",
   "metadata": {},
   "outputs": [
    {
     "name": "stdout",
     "output_type": "stream",
     "text": [
      "Took 6.658 seconds\n"
     ]
    }
   ],
   "source": [
    "time_start = time.perf_counter()\n",
    "model_cpu = model.to(\"cpu\")\n",
    "\n",
    "for text in test_dataset[\"body\"]:\n",
    "        request = tokenizer(text, return_tensors=\"pt\", truncation=True, padding=True).to('cpu')\n",
    "        outputs = model_cpu(**request)\n",
    "\n",
    "time_end = time.perf_counter()\n",
    "    \n",
    "print(f'Took {(time_end - time_start):.3f} seconds')"
   ]
  },
  {
   "cell_type": "code",
   "execution_count": null,
   "id": "c55b8cd7-9f1e-4704-858b-40ba97e620c2",
   "metadata": {},
   "outputs": [],
   "source": []
  },
  {
   "cell_type": "code",
   "execution_count": null,
   "id": "81ddef76-db5a-48b2-ace6-1515c9d5c0df",
   "metadata": {},
   "outputs": [],
   "source": []
  },
  {
   "cell_type": "code",
   "execution_count": null,
   "id": "cf8f7868-c9b7-4001-b5ea-51fe2bc47e3e",
   "metadata": {},
   "outputs": [],
   "source": []
  }
 ],
 "metadata": {
  "kernelspec": {
   "display_name": "Python 3 (ipykernel)",
   "language": "python",
   "name": "python3"
  },
  "language_info": {
   "codemirror_mode": {
    "name": "ipython",
    "version": 3
   },
   "file_extension": ".py",
   "mimetype": "text/x-python",
   "name": "python",
   "nbconvert_exporter": "python",
   "pygments_lexer": "ipython3",
   "version": "3.12.3"
  }
 },
 "nbformat": 4,
 "nbformat_minor": 5
}
