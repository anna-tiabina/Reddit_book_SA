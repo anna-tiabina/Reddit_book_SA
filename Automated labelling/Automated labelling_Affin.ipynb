{
 "cells": [
  {
   "cell_type": "code",
   "execution_count": 1,
   "id": "9048bfe8-7b57-4e9c-88ce-10850d9b8d87",
   "metadata": {},
   "outputs": [],
   "source": [
    "from afinn import Afinn\n",
    "import pandas as pd\n",
    "from sklearn.metrics import accuracy_score\n",
    "import numpy as np\n",
    "import matplotlib.pyplot as plt\n",
    "from sklearn.metrics import classification_report"
   ]
  },
  {
   "cell_type": "code",
   "execution_count": 2,
   "id": "1c61230c-3d6f-4d73-abe0-4a9bb6bb8152",
   "metadata": {},
   "outputs": [],
   "source": [
    "afn = Afinn(emoticons=True)"
   ]
  },
  {
   "cell_type": "code",
   "execution_count": 3,
   "id": "6b133e2c-245a-4e60-91e9-222d0c713ee6",
   "metadata": {},
   "outputs": [],
   "source": [
    "dataset = pd.read_csv(\"books_all.csv\")"
   ]
  },
  {
   "cell_type": "code",
   "execution_count": 4,
   "id": "5822e22b-7f86-4d34-bade-f262d7b054d0",
   "metadata": {},
   "outputs": [],
   "source": [
    "bodies = np.array(dataset['body'])\n",
    "sentiments = np.array(dataset['label'])"
   ]
  },
  {
   "cell_type": "code",
   "execution_count": 5,
   "id": "3cd9d222-451b-4a1a-ba55-605a3c76ce98",
   "metadata": {},
   "outputs": [],
   "source": [
    "dataset[\"sentiment\"]=dataset[\"body\"].apply(lambda x: afn.score(x))"
   ]
  },
  {
   "cell_type": "code",
   "execution_count": 6,
   "id": "3b7fd8df-155f-4327-b996-b60e216f2c24",
   "metadata": {},
   "outputs": [],
   "source": [
    "dataset['sentiment_label'] = np.int64(dataset['sentiment'] > 0.1)"
   ]
  },
  {
   "cell_type": "code",
   "execution_count": 8,
   "id": "96d5eab4-3003-4aaf-bb87-9d99c2f6a97b",
   "metadata": {},
   "outputs": [
    {
     "data": {
      "text/plain": [
       "0.67"
      ]
     },
     "execution_count": 8,
     "metadata": {},
     "output_type": "execute_result"
    }
   ],
   "source": [
    "accuracy_score(dataset['label'], dataset['sentiment_label'])"
   ]
  },
  {
   "cell_type": "code",
   "execution_count": 9,
   "id": "fe3f153c-8500-48e3-b0ff-001c668b7c65",
   "metadata": {},
   "outputs": [],
   "source": [
    "diff_index = dataset['label'] != dataset['sentiment_label']\n"
   ]
  },
  {
   "cell_type": "code",
   "execution_count": 10,
   "id": "0bf8dea4-0ac9-4beb-8fff-91bcc3abf3db",
   "metadata": {},
   "outputs": [
    {
     "name": "stderr",
     "output_type": "stream",
     "text": [
      "/tmp/ipykernel_24758/301673443.py:2: SettingWithCopyWarning: \n",
      "A value is trying to be set on a copy of a slice from a DataFrame.\n",
      "Try using .loc[row_indexer,col_indexer] = value instead\n",
      "\n",
      "See the caveats in the documentation: https://pandas.pydata.org/pandas-docs/stable/user_guide/indexing.html#returning-a-view-versus-a-copy\n",
      "  diff_data['sentiment_mod'] = np.abs(diff_data['sentiment'])\n"
     ]
    },
    {
     "data": {
      "text/html": [
       "<div>\n",
       "<style scoped>\n",
       "    .dataframe tbody tr th:only-of-type {\n",
       "        vertical-align: middle;\n",
       "    }\n",
       "\n",
       "    .dataframe tbody tr th {\n",
       "        vertical-align: top;\n",
       "    }\n",
       "\n",
       "    .dataframe thead th {\n",
       "        text-align: right;\n",
       "    }\n",
       "</style>\n",
       "<table border=\"1\" class=\"dataframe\">\n",
       "  <thead>\n",
       "    <tr style=\"text-align: right;\">\n",
       "      <th></th>\n",
       "      <th>body</th>\n",
       "      <th>label</th>\n",
       "      <th>sentiment</th>\n",
       "      <th>sentiment_label</th>\n",
       "      <th>sentiment_mod</th>\n",
       "    </tr>\n",
       "  </thead>\n",
       "  <tbody>\n",
       "    <tr>\n",
       "      <th>52</th>\n",
       "      <td>Trauma, Dissociation, and The Time Traveler's ...</td>\n",
       "      <td>1</td>\n",
       "      <td>-77.0</td>\n",
       "      <td>0</td>\n",
       "      <td>77.0</td>\n",
       "    </tr>\n",
       "    <tr>\n",
       "      <th>169</th>\n",
       "      <td>Ideology and Imagining Death in Sebastian Jung...</td>\n",
       "      <td>1</td>\n",
       "      <td>-38.0</td>\n",
       "      <td>0</td>\n",
       "      <td>38.0</td>\n",
       "    </tr>\n",
       "    <tr>\n",
       "      <th>151</th>\n",
       "      <td>Do you read newly released books, or do you st...</td>\n",
       "      <td>0</td>\n",
       "      <td>35.0</td>\n",
       "      <td>1</td>\n",
       "      <td>35.0</td>\n",
       "    </tr>\n",
       "    <tr>\n",
       "      <th>276</th>\n",
       "      <td>The Crossing by Cormac McCarthy I shared my th...</td>\n",
       "      <td>0</td>\n",
       "      <td>28.0</td>\n",
       "      <td>1</td>\n",
       "      <td>28.0</td>\n",
       "    </tr>\n",
       "    <tr>\n",
       "      <th>125</th>\n",
       "      <td>\"What am I missing with this book?\" thread! I ...</td>\n",
       "      <td>0</td>\n",
       "      <td>26.0</td>\n",
       "      <td>1</td>\n",
       "      <td>26.0</td>\n",
       "    </tr>\n",
       "    <tr>\n",
       "      <th>230</th>\n",
       "      <td>Reading “I’m Glad My Mom Died” soon after my o...</td>\n",
       "      <td>1</td>\n",
       "      <td>-26.0</td>\n",
       "      <td>0</td>\n",
       "      <td>26.0</td>\n",
       "    </tr>\n",
       "    <tr>\n",
       "      <th>21</th>\n",
       "      <td>I had to read The Death of Ivan Iliych for one...</td>\n",
       "      <td>1</td>\n",
       "      <td>-23.0</td>\n",
       "      <td>0</td>\n",
       "      <td>23.0</td>\n",
       "    </tr>\n",
       "    <tr>\n",
       "      <th>51</th>\n",
       "      <td>Ronnie Spector (Be My Baby Memoir) A Real Flow...</td>\n",
       "      <td>1</td>\n",
       "      <td>-21.0</td>\n",
       "      <td>0</td>\n",
       "      <td>21.0</td>\n",
       "    </tr>\n",
       "    <tr>\n",
       "      <th>5</th>\n",
       "      <td>The Song of Achilles would have been a way bet...</td>\n",
       "      <td>0</td>\n",
       "      <td>20.0</td>\n",
       "      <td>1</td>\n",
       "      <td>20.0</td>\n",
       "    </tr>\n",
       "    <tr>\n",
       "      <th>297</th>\n",
       "      <td>Ulysses - Joyce sabotages a nascent reader \\n\\...</td>\n",
       "      <td>0</td>\n",
       "      <td>19.0</td>\n",
       "      <td>1</td>\n",
       "      <td>19.0</td>\n",
       "    </tr>\n",
       "    <tr>\n",
       "      <th>40</th>\n",
       "      <td>Fairy Tale by Stephen King. I’m going to start...</td>\n",
       "      <td>0</td>\n",
       "      <td>19.0</td>\n",
       "      <td>1</td>\n",
       "      <td>19.0</td>\n",
       "    </tr>\n",
       "    <tr>\n",
       "      <th>1</th>\n",
       "      <td>A nasty kind of high: \"A Scanner Darkly\" by Ph...</td>\n",
       "      <td>1</td>\n",
       "      <td>-18.0</td>\n",
       "      <td>0</td>\n",
       "      <td>18.0</td>\n",
       "    </tr>\n",
       "  </tbody>\n",
       "</table>\n",
       "</div>"
      ],
      "text/plain": [
       "                                                  body  label  sentiment  \\\n",
       "52   Trauma, Dissociation, and The Time Traveler's ...      1      -77.0   \n",
       "169  Ideology and Imagining Death in Sebastian Jung...      1      -38.0   \n",
       "151  Do you read newly released books, or do you st...      0       35.0   \n",
       "276  The Crossing by Cormac McCarthy I shared my th...      0       28.0   \n",
       "125  \"What am I missing with this book?\" thread! I ...      0       26.0   \n",
       "230  Reading “I’m Glad My Mom Died” soon after my o...      1      -26.0   \n",
       "21   I had to read The Death of Ivan Iliych for one...      1      -23.0   \n",
       "51   Ronnie Spector (Be My Baby Memoir) A Real Flow...      1      -21.0   \n",
       "5    The Song of Achilles would have been a way bet...      0       20.0   \n",
       "297  Ulysses - Joyce sabotages a nascent reader \\n\\...      0       19.0   \n",
       "40   Fairy Tale by Stephen King. I’m going to start...      0       19.0   \n",
       "1    A nasty kind of high: \"A Scanner Darkly\" by Ph...      1      -18.0   \n",
       "\n",
       "     sentiment_label  sentiment_mod  \n",
       "52                 0           77.0  \n",
       "169                0           38.0  \n",
       "151                1           35.0  \n",
       "276                1           28.0  \n",
       "125                1           26.0  \n",
       "230                0           26.0  \n",
       "21                 0           23.0  \n",
       "51                 0           21.0  \n",
       "5                  1           20.0  \n",
       "297                1           19.0  \n",
       "40                 1           19.0  \n",
       "1                  0           18.0  "
      ]
     },
     "execution_count": 10,
     "metadata": {},
     "output_type": "execute_result"
    }
   ],
   "source": [
    "diff_data = dataset[diff_index]\n",
    "diff_data['sentiment_mod'] = np.abs(diff_data['sentiment'])\n",
    "top_diff_data = diff_data.sort_values('sentiment_mod', ascending=False).head(12)\n",
    "top_diff_data"
   ]
  },
  {
   "cell_type": "code",
   "execution_count": 11,
   "id": "fb42bfb5-104b-4838-9d13-dc5181e9c3c8",
   "metadata": {},
   "outputs": [],
   "source": [
    "top_diff_data.to_csv('afinn_mixed_sentiment.csv', index=False)\n"
   ]
  },
  {
   "cell_type": "code",
   "execution_count": null,
   "id": "60bda44f-cae5-4fa6-9711-a1eb9d831dd7",
   "metadata": {},
   "outputs": [],
   "source": []
  }
 ],
 "metadata": {
  "kernelspec": {
   "display_name": "Python 3 (ipykernel)",
   "language": "python",
   "name": "python3"
  },
  "language_info": {
   "codemirror_mode": {
    "name": "ipython",
    "version": 3
   },
   "file_extension": ".py",
   "mimetype": "text/x-python",
   "name": "python",
   "nbconvert_exporter": "python",
   "pygments_lexer": "ipython3",
   "version": "3.12.3"
  }
 },
 "nbformat": 4,
 "nbformat_minor": 5
}
