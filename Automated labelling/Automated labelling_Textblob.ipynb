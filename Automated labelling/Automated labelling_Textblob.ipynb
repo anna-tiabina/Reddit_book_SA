{
 "cells": [
  {
   "cell_type": "code",
   "execution_count": 9,
   "id": "9048bfe8-7b57-4e9c-88ce-10850d9b8d87",
   "metadata": {},
   "outputs": [],
   "source": [
    "from textblob import TextBlob\n",
    "import pandas as pd\n",
    "from sklearn.metrics import accuracy_score\n",
    "import numpy as np\n",
    "import matplotlib.pyplot as plt\n"
   ]
  },
  {
   "cell_type": "code",
   "execution_count": 10,
   "id": "6b133e2c-245a-4e60-91e9-222d0c713ee6",
   "metadata": {},
   "outputs": [],
   "source": [
    "dataset = pd.read_csv(\"books_all.csv\")"
   ]
  },
  {
   "cell_type": "code",
   "execution_count": 11,
   "id": "4c936798-10e4-4886-9774-23acb90fa341",
   "metadata": {},
   "outputs": [],
   "source": [
    "dataset[\"sentiment\"]=dataset[\"body\"].apply(lambda x: TextBlob(x).sentiment[0])"
   ]
  },
  {
   "cell_type": "code",
   "execution_count": 12,
   "id": "ac90e4d7-2f02-4fb6-b44b-1e631516d224",
   "metadata": {},
   "outputs": [],
   "source": [
    "dataset['sentiment_label'] = np.int64(dataset['sentiment'] > 0)"
   ]
  },
  {
   "cell_type": "code",
   "execution_count": 13,
   "id": "96d5eab4-3003-4aaf-bb87-9d99c2f6a97b",
   "metadata": {},
   "outputs": [
    {
     "data": {
      "text/plain": [
       "0.7466666666666667"
      ]
     },
     "execution_count": 13,
     "metadata": {},
     "output_type": "execute_result"
    }
   ],
   "source": [
    "accuracy_score(dataset['label'], dataset['sentiment_label'])"
   ]
  },
  {
   "cell_type": "code",
   "execution_count": 14,
   "id": "fe3f153c-8500-48e3-b0ff-001c668b7c65",
   "metadata": {},
   "outputs": [],
   "source": [
    "diff_index = dataset['label'] != dataset['sentiment_label']"
   ]
  },
  {
   "cell_type": "code",
   "execution_count": 15,
   "id": "0bf8dea4-0ac9-4beb-8fff-91bcc3abf3db",
   "metadata": {},
   "outputs": [
    {
     "name": "stderr",
     "output_type": "stream",
     "text": [
      "/tmp/ipykernel_7595/301673443.py:2: SettingWithCopyWarning: \n",
      "A value is trying to be set on a copy of a slice from a DataFrame.\n",
      "Try using .loc[row_indexer,col_indexer] = value instead\n",
      "\n",
      "See the caveats in the documentation: https://pandas.pydata.org/pandas-docs/stable/user_guide/indexing.html#returning-a-view-versus-a-copy\n",
      "  diff_data['sentiment_mod'] = np.abs(diff_data['sentiment'])\n"
     ]
    },
    {
     "data": {
      "text/html": [
       "<div>\n",
       "<style scoped>\n",
       "    .dataframe tbody tr th:only-of-type {\n",
       "        vertical-align: middle;\n",
       "    }\n",
       "\n",
       "    .dataframe tbody tr th {\n",
       "        vertical-align: top;\n",
       "    }\n",
       "\n",
       "    .dataframe thead th {\n",
       "        text-align: right;\n",
       "    }\n",
       "</style>\n",
       "<table border=\"1\" class=\"dataframe\">\n",
       "  <thead>\n",
       "    <tr style=\"text-align: right;\">\n",
       "      <th></th>\n",
       "      <th>body</th>\n",
       "      <th>label</th>\n",
       "      <th>sentiment</th>\n",
       "      <th>sentiment_label</th>\n",
       "      <th>sentiment_mod</th>\n",
       "    </tr>\n",
       "  </thead>\n",
       "  <tbody>\n",
       "    <tr>\n",
       "      <th>61</th>\n",
       "      <td>What would you say is the ideal age to read Th...</td>\n",
       "      <td>0</td>\n",
       "      <td>0.539286</td>\n",
       "      <td>1</td>\n",
       "      <td>0.539286</td>\n",
       "    </tr>\n",
       "    <tr>\n",
       "      <th>59</th>\n",
       "      <td>Is Dostojevsky a bad author? I was expecting a...</td>\n",
       "      <td>0</td>\n",
       "      <td>0.360000</td>\n",
       "      <td>1</td>\n",
       "      <td>0.360000</td>\n",
       "    </tr>\n",
       "    <tr>\n",
       "      <th>125</th>\n",
       "      <td>\"What am I missing with this book?\" thread! I ...</td>\n",
       "      <td>0</td>\n",
       "      <td>0.342424</td>\n",
       "      <td>1</td>\n",
       "      <td>0.342424</td>\n",
       "    </tr>\n",
       "    <tr>\n",
       "      <th>198</th>\n",
       "      <td>I am Pilgrim - Terry Hayes I picked this book ...</td>\n",
       "      <td>0</td>\n",
       "      <td>0.320455</td>\n",
       "      <td>1</td>\n",
       "      <td>0.320455</td>\n",
       "    </tr>\n",
       "    <tr>\n",
       "      <th>88</th>\n",
       "      <td>Understanding the Great Gabsty Just started re...</td>\n",
       "      <td>0</td>\n",
       "      <td>0.268889</td>\n",
       "      <td>1</td>\n",
       "      <td>0.268889</td>\n",
       "    </tr>\n",
       "    <tr>\n",
       "      <th>190</th>\n",
       "      <td>Thoughts on abandoning a book halfway through?...</td>\n",
       "      <td>0</td>\n",
       "      <td>0.267208</td>\n",
       "      <td>1</td>\n",
       "      <td>0.267208</td>\n",
       "    </tr>\n",
       "    <tr>\n",
       "      <th>75</th>\n",
       "      <td>The Midnight Library (Matt Haig)... Does it ge...</td>\n",
       "      <td>0</td>\n",
       "      <td>0.267130</td>\n",
       "      <td>1</td>\n",
       "      <td>0.267130</td>\n",
       "    </tr>\n",
       "    <tr>\n",
       "      <th>90</th>\n",
       "      <td>Does Ready Player One get any better? I've rea...</td>\n",
       "      <td>0</td>\n",
       "      <td>0.264286</td>\n",
       "      <td>1</td>\n",
       "      <td>0.264286</td>\n",
       "    </tr>\n",
       "    <tr>\n",
       "      <th>115</th>\n",
       "      <td>Lolita: Am I missing something? Okay, I get it...</td>\n",
       "      <td>0</td>\n",
       "      <td>0.230952</td>\n",
       "      <td>1</td>\n",
       "      <td>0.230952</td>\n",
       "    </tr>\n",
       "    <tr>\n",
       "      <th>78</th>\n",
       "      <td>I’ve just finished Pride and Prejudice I love ...</td>\n",
       "      <td>0</td>\n",
       "      <td>0.220455</td>\n",
       "      <td>1</td>\n",
       "      <td>0.220455</td>\n",
       "    </tr>\n",
       "    <tr>\n",
       "      <th>207</th>\n",
       "      <td>It Can’t Happen Here, really hard to follow at...</td>\n",
       "      <td>0</td>\n",
       "      <td>0.213435</td>\n",
       "      <td>1</td>\n",
       "      <td>0.213435</td>\n",
       "    </tr>\n",
       "    <tr>\n",
       "      <th>151</th>\n",
       "      <td>Do you read newly released books, or do you st...</td>\n",
       "      <td>0</td>\n",
       "      <td>0.206318</td>\n",
       "      <td>1</td>\n",
       "      <td>0.206318</td>\n",
       "    </tr>\n",
       "  </tbody>\n",
       "</table>\n",
       "</div>"
      ],
      "text/plain": [
       "                                                  body  label  sentiment  \\\n",
       "61   What would you say is the ideal age to read Th...      0   0.539286   \n",
       "59   Is Dostojevsky a bad author? I was expecting a...      0   0.360000   \n",
       "125  \"What am I missing with this book?\" thread! I ...      0   0.342424   \n",
       "198  I am Pilgrim - Terry Hayes I picked this book ...      0   0.320455   \n",
       "88   Understanding the Great Gabsty Just started re...      0   0.268889   \n",
       "190  Thoughts on abandoning a book halfway through?...      0   0.267208   \n",
       "75   The Midnight Library (Matt Haig)... Does it ge...      0   0.267130   \n",
       "90   Does Ready Player One get any better? I've rea...      0   0.264286   \n",
       "115  Lolita: Am I missing something? Okay, I get it...      0   0.230952   \n",
       "78   I’ve just finished Pride and Prejudice I love ...      0   0.220455   \n",
       "207  It Can’t Happen Here, really hard to follow at...      0   0.213435   \n",
       "151  Do you read newly released books, or do you st...      0   0.206318   \n",
       "\n",
       "     sentiment_label  sentiment_mod  \n",
       "61                 1       0.539286  \n",
       "59                 1       0.360000  \n",
       "125                1       0.342424  \n",
       "198                1       0.320455  \n",
       "88                 1       0.268889  \n",
       "190                1       0.267208  \n",
       "75                 1       0.267130  \n",
       "90                 1       0.264286  \n",
       "115                1       0.230952  \n",
       "78                 1       0.220455  \n",
       "207                1       0.213435  \n",
       "151                1       0.206318  "
      ]
     },
     "execution_count": 15,
     "metadata": {},
     "output_type": "execute_result"
    }
   ],
   "source": [
    "diff_data = dataset[diff_index]\n",
    "diff_data['sentiment_mod'] = np.abs(diff_data['sentiment'])\n",
    "top_diff_data = diff_data.sort_values('sentiment_mod', ascending=False).head(12)\n",
    "top_diff_data"
   ]
  },
  {
   "cell_type": "code",
   "execution_count": 16,
   "id": "f5997dfe-8a26-407a-9dd9-3e1cf5718a97",
   "metadata": {},
   "outputs": [],
   "source": [
    "top_diff_data[\"indx\"] = top_diff_data.index.values"
   ]
  },
  {
   "cell_type": "code",
   "execution_count": 17,
   "id": "fb42bfb5-104b-4838-9d13-dc5181e9c3c8",
   "metadata": {},
   "outputs": [],
   "source": [
    "top_diff_data.to_csv('textblob_mixed_sentiment.csv', index=False)\n"
   ]
  },
  {
   "cell_type": "code",
   "execution_count": null,
   "id": "60bda44f-cae5-4fa6-9711-a1eb9d831dd7",
   "metadata": {},
   "outputs": [],
   "source": []
  },
  {
   "cell_type": "code",
   "execution_count": null,
   "id": "3eb2b6ad-53e6-42b4-9cef-b7901d831b7f",
   "metadata": {},
   "outputs": [],
   "source": []
  },
  {
   "cell_type": "code",
   "execution_count": null,
   "id": "ecb86bdf-d97d-40ed-8ae9-83c92c7e8a24",
   "metadata": {},
   "outputs": [],
   "source": []
  }
 ],
 "metadata": {
  "kernelspec": {
   "display_name": "Python 3 (ipykernel)",
   "language": "python",
   "name": "python3"
  },
  "language_info": {
   "codemirror_mode": {
    "name": "ipython",
    "version": 3
   },
   "file_extension": ".py",
   "mimetype": "text/x-python",
   "name": "python",
   "nbconvert_exporter": "python",
   "pygments_lexer": "ipython3",
   "version": "3.12.3"
  }
 },
 "nbformat": 4,
 "nbformat_minor": 5
}
