{
 "cells": [
  {
   "cell_type": "markdown",
   "id": "873ec46a-6816-4ab8-9889-dec3f4c258f1",
   "metadata": {},
   "source": [
    "# Inter-annotator agreement (Cohen’s Kappa) "
   ]
  },
  {
   "cell_type": "code",
   "execution_count": 134,
   "id": "9048bfe8-7b57-4e9c-88ce-10850d9b8d87",
   "metadata": {},
   "outputs": [],
   "source": [
    "import pandas as pd\n",
    "import numpy as np\n",
    "from sklearn.metrics import cohen_kappa_score"
   ]
  },
  {
   "cell_type": "code",
   "execution_count": 135,
   "id": "1c61230c-3d6f-4d73-abe0-4a9bb6bb8152",
   "metadata": {},
   "outputs": [],
   "source": [
    "annotator2 = pd.read_csv(\"books_all_Annotator2.csv\")\n",
    "annotator1 = pd.read_csv(\"books_all_Annotator1.csv\")"
   ]
  },
  {
   "cell_type": "code",
   "execution_count": 136,
   "id": "6b133e2c-245a-4e60-91e9-222d0c713ee6",
   "metadata": {},
   "outputs": [],
   "source": [
    "#Loading contoversial entries indentified by Textblob and Afinn\n",
    "dataset_afinn = pd.read_csv(\"afinn_mixed_sentiment.csv\")\n",
    "dataset_textblob  = pd.read_csv(\"textblob_mixed_sentiment.csv\")"
   ]
  },
  {
   "cell_type": "code",
   "execution_count": 137,
   "id": "f71cb2f9-172b-43db-bba6-1839692419ec",
   "metadata": {},
   "outputs": [],
   "source": [
    "#Creating a list of indecies\n",
    "indx_a = list(dataset_afinn[\"indx\"].values)\n",
    "indx_t = list(dataset_textblob[\"indx\"].values)\n",
    "indx_a.extend(indx_t)\n",
    "both_diff = list(set(indx_a))"
   ]
  },
  {
   "cell_type": "code",
   "execution_count": 138,
   "id": "662ba702-76ea-4fb2-84f5-025c5ddeeddd",
   "metadata": {},
   "outputs": [],
   "source": [
    "#Choosing entries with controversial posts ffrom two different datasets labelled by two different annotators\n",
    "df_an_2 = annotator2.loc[both_diff]\n",
    "df_an_1 = annotator1.loc[both_diff]"
   ]
  },
  {
   "cell_type": "code",
   "execution_count": 139,
   "id": "3363fa4b-060b-40da-a5f0-15b5c155d42f",
   "metadata": {},
   "outputs": [],
   "source": [
    "#Selecting labes to calculate their differences\n",
    "rater1 = df_an_1[\"label\"].values\n",
    "rater2 = df_an_2[\"label\"].values"
   ]
  },
  {
   "cell_type": "code",
   "execution_count": 140,
   "id": "46ae15d5-52ae-4290-9a2c-fbef8a0510c8",
   "metadata": {},
   "outputs": [
    {
     "name": "stdout",
     "output_type": "stream",
     "text": [
      "Cohen's Kappa: 0.8910891089108911\n"
     ]
    }
   ],
   "source": [
    "# Calculating Cohen's Kappa\n",
    "kappa = cohen_kappa_score(rater1, rater2)\n",
    "print(f\"Cohen's Kappa: {kappa}\")"
   ]
  },
  {
   "cell_type": "code",
   "execution_count": null,
   "id": "7cc03b77-9575-4f22-9768-4511ae45b39e",
   "metadata": {},
   "outputs": [],
   "source": []
  }
 ],
 "metadata": {
  "kernelspec": {
   "display_name": "Python 3 (ipykernel)",
   "language": "python",
   "name": "python3"
  },
  "language_info": {
   "codemirror_mode": {
    "name": "ipython",
    "version": 3
   },
   "file_extension": ".py",
   "mimetype": "text/x-python",
   "name": "python",
   "nbconvert_exporter": "python",
   "pygments_lexer": "ipython3",
   "version": "3.12.3"
  }
 },
 "nbformat": 4,
 "nbformat_minor": 5
}
