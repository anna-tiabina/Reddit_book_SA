{
 "cells": [
  {
   "cell_type": "markdown",
   "id": "2e2e32f1-a4bc-44e1-9a3a-01b340a071a5",
   "metadata": {},
   "source": [
    "# Testing the DistilBert fine-tuned on SST-2"
   ]
  },
  {
   "cell_type": "code",
   "execution_count": 1,
   "id": "3a85271b-7819-4e0e-9154-573903d6d7d9",
   "metadata": {},
   "outputs": [],
   "source": [
    "import torch\n",
    "from transformers import DistilBertTokenizer, DistilBertForSequenceClassification\n",
    "from datasets import load_dataset\n",
    "import numpy as np\n",
    "import evaluate\n",
    "from scipy.special import softmax\n",
    "from sklearn.metrics import recall_score\n",
    "from sklearn.metrics import precision_score\n",
    "import matplotlib.pyplot as plt\n",
    "import time"
   ]
  },
  {
   "cell_type": "code",
   "execution_count": 2,
   "id": "01317b5d-af68-4104-8c63-a04259ff79c8",
   "metadata": {},
   "outputs": [],
   "source": [
    "tokenizer = DistilBertTokenizer.from_pretrained(\"distilbert-base-uncased-finetuned-sst-2-english\")\n",
    "model = DistilBertForSequenceClassification.from_pretrained(\"distilbert-base-uncased-finetuned-sst-2-english\")\n"
   ]
  },
  {
   "cell_type": "code",
   "execution_count": 3,
   "id": "752e9035-a138-47cd-8a4e-16b7515a1a41",
   "metadata": {},
   "outputs": [],
   "source": [
    "dataset_test = load_dataset(\"csv\", data_files=\"books_test.csv\")"
   ]
  },
  {
   "cell_type": "code",
   "execution_count": 4,
   "id": "ab661e20-4c3f-418a-a477-06dd26b8b74e",
   "metadata": {},
   "outputs": [],
   "source": [
    "inputs = tokenizer(dataset_test['train']['body'], truncation=True, return_tensors=\"pt\", padding=True)"
   ]
  },
  {
   "cell_type": "code",
   "execution_count": 5,
   "id": "d5b38e5c-b108-4ead-8b90-8a38f1eef10e",
   "metadata": {},
   "outputs": [],
   "source": [
    "with torch.no_grad():\n",
    "    logits = model(**inputs).logits"
   ]
  },
  {
   "cell_type": "markdown",
   "id": "f7e9f532-0516-4161-99e7-cce65d65eb56",
   "metadata": {},
   "source": [
    "## Calculating accuracy, precision, F1-score"
   ]
  },
  {
   "cell_type": "code",
   "execution_count": 6,
   "id": "1467ce63-cc55-4447-9c0f-68a21f695f4d",
   "metadata": {},
   "outputs": [],
   "source": [
    "load_accuracy = evaluate.load(\"accuracy\")\n",
    "load_f1 = evaluate.load(\"f1\")\n",
    "labels = dataset_test['train']['label']\n",
    "\n",
    "predictions = np.argmax(logits, axis=-1)\n",
    "accuracy = load_accuracy.compute(predictions=predictions, references=labels)\n",
    "f1 = load_f1.compute(predictions=predictions, references=labels)\n",
    "load_precision = evaluate.load(\"precision\")\n",
    "precision = load_precision.compute(predictions=predictions, references=labels)\n",
    "metrics = {\"accuracy\": accuracy, \"f1\": f1, \"precision\": precision}"
   ]
  },
  {
   "cell_type": "code",
   "execution_count": 7,
   "id": "fb8ef468-cfde-4caf-8f00-f659db7a19c9",
   "metadata": {},
   "outputs": [
    {
     "name": "stdout",
     "output_type": "stream",
     "text": [
      "{'accuracy': {'accuracy': 0.79}, 'f1': {'f1': 0.832}, 'precision': {'precision': 0.9811320754716981}}\n"
     ]
    }
   ],
   "source": [
    "print(metrics)"
   ]
  },
  {
   "cell_type": "markdown",
   "id": "3230170c-b125-4711-8efe-2422f26c6929",
   "metadata": {},
   "source": [
    "### Accuracy is 0.79, F1-score is 0.832, precision is 0.98"
   ]
  },
  {
   "cell_type": "code",
   "execution_count": 8,
   "id": "6641adbc-c7fb-4066-a2e3-f7c506984c02",
   "metadata": {},
   "outputs": [],
   "source": [
    "#logits of the inference on the testing data\n",
    "sst_dbert_logits = logits.numpy()"
   ]
  },
  {
   "cell_type": "markdown",
   "id": "736a0451-e23e-4e1d-b76c-f65d74c79976",
   "metadata": {},
   "source": [
    "## PR curve: calculating precision and recall "
   ]
  },
  {
   "cell_type": "code",
   "execution_count": 9,
   "id": "a4556488-86f0-4bff-9479-d590ef94e8d3",
   "metadata": {},
   "outputs": [],
   "source": [
    "y_true = np.array(dataset_test[\"train\"][\"label\"])\n",
    "sst_dbert_precision = []\n",
    "sst_dbert_recall = []\n",
    "sst_dbert_probabilities = softmax(sst_dbert_logits, axis=1)\n",
    "threshold = list(np.arange(0.0, 1, 0.001))\n",
    "for t in threshold:\n",
    "    y_scores = (sst_dbert_probabilities[:, 1] > t).astype(int)\n",
    "    sst_dbert_precision.append(precision_score(y_true, y_scores, zero_division=1))\n",
    "    sst_dbert_recall.append(recall_score(y_true, y_scores, zero_division=1))\n",
    "\n",
    "sst_dbert_precision.append(1)\n",
    "sst_dbert_recall.append(0)"
   ]
  },
  {
   "cell_type": "code",
   "execution_count": 11,
   "id": "1ea87f7c-88a9-4406-9ae7-15598f425a2d",
   "metadata": {},
   "outputs": [
    {
     "name": "stdout",
     "output_type": "stream",
     "text": [
      "0.15 0.9821428571428571 0.7638888888888888\n",
      "0.151 0.9821428571428571 0.7638888888888888\n",
      "0.152 0.9821428571428571 0.7638888888888888\n",
      "0.153 0.9821428571428571 0.7638888888888888\n",
      "0.154 0.9821428571428571 0.7638888888888888\n",
      "0.155 0.9821428571428571 0.7638888888888888\n",
      "0.156 0.9821428571428571 0.7638888888888888\n",
      "0.157 0.9821428571428571 0.7638888888888888\n",
      "0.158 0.9821428571428571 0.7638888888888888\n",
      "0.159 0.9821428571428571 0.7638888888888888\n",
      "0.16 0.9821428571428571 0.7638888888888888\n",
      "0.161 0.9821428571428571 0.7638888888888888\n",
      "0.162 0.9821428571428571 0.7638888888888888\n",
      "0.163 0.9821428571428571 0.7638888888888888\n",
      "0.164 0.9821428571428571 0.7638888888888888\n",
      "0.165 0.9821428571428571 0.7638888888888888\n",
      "0.166 0.9821428571428571 0.7638888888888888\n",
      "0.167 0.9821428571428571 0.7638888888888888\n",
      "0.168 0.9821428571428571 0.7638888888888888\n",
      "0.169 0.9821428571428571 0.7638888888888888\n",
      "0.17 0.9821428571428571 0.7638888888888888\n",
      "0.171 0.9821428571428571 0.7638888888888888\n",
      "0.17200000000000001 0.9821428571428571 0.7638888888888888\n",
      "0.17300000000000001 0.9821428571428571 0.7638888888888888\n",
      "0.17400000000000002 0.9821428571428571 0.7638888888888888\n",
      "0.17500000000000002 0.9821428571428571 0.7638888888888888\n",
      "0.176 0.9821428571428571 0.7638888888888888\n",
      "0.177 0.9821428571428571 0.7638888888888888\n",
      "0.178 0.9821428571428571 0.7638888888888888\n",
      "0.179 0.9821428571428571 0.7638888888888888\n",
      "0.18 0.9821428571428571 0.7638888888888888\n",
      "0.181 0.9821428571428571 0.7638888888888888\n",
      "0.182 0.9821428571428571 0.7638888888888888\n",
      "0.183 0.9821428571428571 0.7638888888888888\n",
      "0.184 0.9821428571428571 0.7638888888888888\n",
      "0.185 0.9821428571428571 0.7638888888888888\n",
      "0.186 0.9821428571428571 0.7638888888888888\n",
      "0.187 0.9821428571428571 0.7638888888888888\n",
      "0.188 0.9821428571428571 0.7638888888888888\n",
      "0.189 0.9821428571428571 0.7638888888888888\n",
      "0.19 0.9821428571428571 0.7638888888888888\n",
      "0.191 0.9821428571428571 0.7638888888888888\n",
      "0.192 0.9821428571428571 0.7638888888888888\n",
      "0.193 0.9821428571428571 0.7638888888888888\n",
      "0.194 0.9821428571428571 0.7638888888888888\n",
      "0.195 0.9821428571428571 0.7638888888888888\n",
      "0.196 0.9821428571428571 0.7638888888888888\n",
      "0.197 0.9821428571428571 0.7638888888888888\n",
      "0.198 0.9821428571428571 0.7638888888888888\n",
      "0.199 0.9821428571428571 0.7638888888888888\n",
      "0.2 0.9821428571428571 0.7638888888888888\n",
      "0.201 0.9821428571428571 0.7638888888888888\n",
      "0.202 0.9821428571428571 0.7638888888888888\n",
      "0.203 0.9821428571428571 0.7638888888888888\n",
      "0.20400000000000001 0.9821428571428571 0.7638888888888888\n",
      "0.20500000000000002 0.9821428571428571 0.7638888888888888\n",
      "0.20600000000000002 0.9821428571428571 0.7638888888888888\n",
      "0.20700000000000002 0.9821428571428571 0.7638888888888888\n",
      "0.20800000000000002 0.9821428571428571 0.7638888888888888\n",
      "0.209 0.9821428571428571 0.7638888888888888\n",
      "0.21 0.9821428571428571 0.7638888888888888\n",
      "0.211 0.9821428571428571 0.7638888888888888\n",
      "0.212 0.9821428571428571 0.7638888888888888\n",
      "0.213 0.9821428571428571 0.7638888888888888\n",
      "0.214 0.9821428571428571 0.7638888888888888\n",
      "0.215 0.9821428571428571 0.7638888888888888\n",
      "0.216 0.9821428571428571 0.7638888888888888\n",
      "0.217 0.9821428571428571 0.7638888888888888\n",
      "0.218 0.9821428571428571 0.7638888888888888\n",
      "0.219 0.9821428571428571 0.7638888888888888\n",
      "0.22 0.9821428571428571 0.7638888888888888\n",
      "0.221 0.9821428571428571 0.7638888888888888\n",
      "0.222 0.9821428571428571 0.7638888888888888\n",
      "0.223 0.9821428571428571 0.7638888888888888\n",
      "0.224 0.9821428571428571 0.7638888888888888\n",
      "0.225 0.9821428571428571 0.7638888888888888\n",
      "0.226 0.9821428571428571 0.7638888888888888\n",
      "0.227 0.9821428571428571 0.7638888888888888\n",
      "0.228 0.9821428571428571 0.7638888888888888\n",
      "0.229 0.9821428571428571 0.7638888888888888\n",
      "0.23 0.9821428571428571 0.7638888888888888\n",
      "0.231 0.9821428571428571 0.7638888888888888\n",
      "0.232 0.9821428571428571 0.7638888888888888\n",
      "0.233 0.9821428571428571 0.7638888888888888\n",
      "0.234 0.9821428571428571 0.7638888888888888\n",
      "0.23500000000000001 0.9821428571428571 0.7638888888888888\n",
      "0.23600000000000002 0.9821428571428571 0.7638888888888888\n",
      "0.23700000000000002 0.9821428571428571 0.7638888888888888\n",
      "0.23800000000000002 0.9821428571428571 0.7638888888888888\n",
      "0.23900000000000002 0.9821428571428571 0.7638888888888888\n",
      "0.24 0.9821428571428571 0.7638888888888888\n",
      "0.241 0.9821428571428571 0.7638888888888888\n",
      "0.242 0.9821428571428571 0.7638888888888888\n",
      "0.243 0.9821428571428571 0.7638888888888888\n",
      "0.244 0.9821428571428571 0.7638888888888888\n",
      "0.245 0.9821428571428571 0.7638888888888888\n",
      "0.246 0.9821428571428571 0.7638888888888888\n",
      "0.247 0.9821428571428571 0.7638888888888888\n",
      "0.248 0.9821428571428571 0.7638888888888888\n",
      "0.249 0.9821428571428571 0.7638888888888888\n",
      "0.25 0.9821428571428571 0.7638888888888888\n",
      "0.251 0.9821428571428571 0.7638888888888888\n",
      "0.252 0.9821428571428571 0.7638888888888888\n",
      "0.253 0.9821428571428571 0.7638888888888888\n",
      "0.254 0.9821428571428571 0.7638888888888888\n",
      "0.255 0.9821428571428571 0.7638888888888888\n",
      "0.256 0.9821428571428571 0.7638888888888888\n",
      "0.257 0.9821428571428571 0.7638888888888888\n",
      "0.258 0.9821428571428571 0.7638888888888888\n",
      "0.259 0.9821428571428571 0.7638888888888888\n",
      "0.26 0.9821428571428571 0.7638888888888888\n",
      "0.261 0.9821428571428571 0.7638888888888888\n",
      "0.262 0.9821428571428571 0.7638888888888888\n",
      "0.263 0.9821428571428571 0.7638888888888888\n",
      "0.264 0.9821428571428571 0.7638888888888888\n",
      "0.265 0.9821428571428571 0.7638888888888888\n",
      "0.266 0.9821428571428571 0.7638888888888888\n"
     ]
    }
   ],
   "source": [
    "#precision is the most important metric as it is important for the application to avoid false positive, hence the attempts are made to preserve as high precision score as possible but also to use hight recall\n",
    "for t, p, r in zip(threshold, sst_dbert_precision, sst_dbert_recall):\n",
    "    if (r == 0.7638888888888888 and p == 0.9821428571428571):\n",
    "        print(t, p, r)\n",
    "\n",
    "#possible threshhold which will be used in the application 0.15<threshhold<0.266\n",
    "\n"
   ]
  },
  {
   "cell_type": "markdown",
   "id": "3016813b-1b92-4f2f-a612-bce83b157e1f",
   "metadata": {},
   "source": [
    "## Baseline model which always returns the most frequent class"
   ]
  },
  {
   "cell_type": "code",
   "execution_count": 12,
   "id": "de5b1e62-6ee2-4bbd-94ed-e4a20ec852d2",
   "metadata": {},
   "outputs": [],
   "source": [
    "y_score_baseline = np.ones(y_true.shape)\n",
    "baseline_precision = precision_score(y_true, y_score_baseline, zero_division=1)\n",
    "baseline_recall = recall_score(y_true, y_score_baseline, zero_division=1)"
   ]
  },
  {
   "cell_type": "markdown",
   "id": "733d4334-150d-47ed-88be-103ddf6d99b6",
   "metadata": {},
   "source": [
    "## Default precision/recall"
   ]
  },
  {
   "cell_type": "code",
   "execution_count": 13,
   "id": "d7d8f927-a41c-4364-85a7-6a79e68b78ed",
   "metadata": {},
   "outputs": [],
   "source": [
    "y_score_default = logits.argmax(axis=-1)\n",
    "y_scores_default = sst_dbert_probabilities.argmax(axis=-1)\n",
    "default_precision = precision_score(y_true, y_score_default, zero_division=1)\n",
    "default_recall = recall_score(y_true, y_score_default, zero_division=1)"
   ]
  },
  {
   "cell_type": "markdown",
   "id": "c2bbfcd6-4b4b-43b8-922a-5e083b1a9389",
   "metadata": {},
   "source": [
    "## Plotting the PR curve"
   ]
  },
  {
   "cell_type": "code",
   "execution_count": 14,
   "id": "e802a610-29a6-4ed2-a3f5-6ad32a5e81e9",
   "metadata": {},
   "outputs": [
    {
     "data": {
      "text/plain": [
       "<matplotlib.legend.Legend at 0x7429ba053bf0>"
      ]
     },
     "execution_count": 14,
     "metadata": {},
     "output_type": "execute_result"
    },
    {
     "data": {
      "image/png": "[encoded data removed]",
      "text/plain": [
       "<Figure size 640x480 with 1 Axes>"
      ]
     },
     "metadata": {},
     "output_type": "display_data"
    }
   ],
   "source": [
    "fig, ax = plt.subplots()\n",
    "ax.plot(sst_dbert_recall, sst_dbert_precision, '-', label='SST_dbert')\n",
    "ax.plot([baseline_recall], [baseline_precision], '*', label='Always 1')\n",
    "ax.plot([default_recall], [default_precision], '+', label='Default')\n",
    "ax.plot([0.7638888888888888], [0.9821428571428571], 'd', label='Threshold')\n",
    "ax.set_xlabel('Recall')\n",
    "ax.set_ylabel('Precision')\n",
    "ax.set_xlim((0, 1.1))\n",
    "ax.set_ylim((0, 1.1))\n",
    "\n",
    "\n",
    "ax.legend()"
   ]
  },
  {
   "cell_type": "code",
   "execution_count": 15,
   "id": "6818ecd1-2954-4520-94fc-bf217df0dd95",
   "metadata": {},
   "outputs": [],
   "source": [
    "np.savetxt(\"sst_dbert_logits.csv\", sst_dbert_logits, delimiter = \",\")"
   ]
  },
  {
   "cell_type": "markdown",
   "id": "27bbe47d-6c35-4471-8231-49d77e7fe469",
   "metadata": {},
   "source": [
    "# The model with the threshold applied which will be used in the application "
   ]
  },
  {
   "cell_type": "code",
   "execution_count": 16,
   "id": "ca8444d3-54a4-434b-9ddb-d7498d97f8b1",
   "metadata": {},
   "outputs": [],
   "source": [
    "app_probabilities = softmax(sst_dbert_logits, axis=1)\n",
    "app_threshold = 0.2\n",
    "app_predictions = (app_probabilities[:, 1] > app_threshold).astype(int)"
   ]
  },
  {
   "cell_type": "code",
   "execution_count": 17,
   "id": "43d989dc-ccfe-4741-9b03-e164180f79b4",
   "metadata": {},
   "outputs": [],
   "source": [
    "load_accuracy = evaluate.load(\"accuracy\")\n",
    "load_f1 = evaluate.load(\"f1\")\n",
    "labels = dataset_test['train']['label']\n",
    "accuracy = load_accuracy.compute(predictions=app_predictions, references=labels)\n",
    "f1 = load_f1.compute(predictions=app_predictions, references=labels)\n",
    "load_precision = evaluate.load(\"precision\")\n",
    "precision = load_precision.compute(predictions=app_predictions, references=labels)\n",
    "metrics = {\"accuracy\": accuracy, \"f1\": f1, \"precision\": precision}"
   ]
  },
  {
   "cell_type": "code",
   "execution_count": 18,
   "id": "68fca1be-5087-4085-b282-75c05acc03c4",
   "metadata": {},
   "outputs": [
    {
     "name": "stdout",
     "output_type": "stream",
     "text": [
      "{'accuracy': {'accuracy': 0.82}, 'f1': {'f1': 0.859375}, 'precision': {'precision': 0.9821428571428571}}\n"
     ]
    }
   ],
   "source": [
    "print(metrics)"
   ]
  },
  {
   "cell_type": "markdown",
   "id": "2a2d5852-47ad-423e-8463-dadee1bb005f",
   "metadata": {},
   "source": [
    "## Estimating inference time"
   ]
  },
  {
   "cell_type": "code",
   "execution_count": 21,
   "id": "16c76904-0069-48fb-9c94-ecd5c1096c1b",
   "metadata": {},
   "outputs": [
    {
     "name": "stdout",
     "output_type": "stream",
     "text": [
      "Took 6.737 seconds\n"
     ]
    }
   ],
   "source": [
    "time_start = time.perf_counter()\n",
    "model_cpu = model.to(\"cpu\")\n",
    "\n",
    "for text in dataset_test[\"train\"][\"body\"]:\n",
    "        request = tokenizer(text, return_tensors=\"pt\", truncation=True, padding=True).to('cpu')\n",
    "        outputs = model_cpu(**request)\n",
    "\n",
    "time_end = time.perf_counter()\n",
    "    \n",
    "print(f'Took {(time_end - time_start):.3f} seconds')"
   ]
  },
  {
   "cell_type": "code",
   "execution_count": null,
   "id": "e0349573-aa20-4f2a-beb4-0a03e5729101",
   "metadata": {},
   "outputs": [],
   "source": []
  }
 ],
 "metadata": {
  "kernelspec": {
   "display_name": "Python 3 (ipykernel)",
   "language": "python",
   "name": "python3"
  },
  "language_info": {
   "codemirror_mode": {
    "name": "ipython",
    "version": 3
   },
   "file_extension": ".py",
   "mimetype": "text/x-python",
   "name": "python",
   "nbconvert_exporter": "python",
   "pygments_lexer": "ipython3",
   "version": "3.12.3"
  }
 },
 "nbformat": 4,
 "nbformat_minor": 5
}
