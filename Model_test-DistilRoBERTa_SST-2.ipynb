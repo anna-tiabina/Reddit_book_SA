{
 "cells": [
  {
   "cell_type": "markdown",
   "id": "2e2e32f1-a4bc-44e1-9a3a-01b340a071a5",
   "metadata": {},
   "source": [
    "# Testing the DistilBert fine-tuned on SST-2"
   ]
  },
  {
   "cell_type": "code",
   "execution_count": 4,
   "id": "3a85271b-7819-4e0e-9154-573903d6d7d9",
   "metadata": {},
   "outputs": [],
   "source": [
    "import torch\n",
    "from transformers import AutoTokenizer, AutoModelForSequenceClassification\n",
    "from datasets import load_dataset\n",
    "import numpy as np\n",
    "import evaluate\n",
    "from scipy.special import softmax\n",
    "from sklearn.metrics import recall_score\n",
    "from sklearn.metrics import precision_score\n",
    "import matplotlib.pyplot as plt\n",
    "import time"
   ]
  },
  {
   "cell_type": "code",
   "execution_count": 5,
   "id": "20ed5da6-d58f-44db-aa0b-5c03c5c30ec6",
   "metadata": {},
   "outputs": [
    {
     "data": {
      "application/vnd.jupyter.widget-view+json": {
       "model_id": "41721b85a08c4001b0a2cd26ff32c59b",
       "version_major": 2,
       "version_minor": 0
      },
      "text/plain": [
       "tokenizer_config.json:   0%|          | 0.00/1.55k [00:00<?, ?B/s]"
      ]
     },
     "metadata": {},
     "output_type": "display_data"
    },
    {
     "data": {
      "application/vnd.jupyter.widget-view+json": {
       "model_id": "84cd1db22cc74f369a4a7373cff1cb65",
       "version_major": 2,
       "version_minor": 0
      },
      "text/plain": [
       "vocab.json:   0%|          | 0.00/798k [00:00<?, ?B/s]"
      ]
     },
     "metadata": {},
     "output_type": "display_data"
    },
    {
     "data": {
      "application/vnd.jupyter.widget-view+json": {
       "model_id": "988c4fc9f79f41dbb714d0a2d8a210f1",
       "version_major": 2,
       "version_minor": 0
      },
      "text/plain": [
       "merges.txt:   0%|          | 0.00/456k [00:00<?, ?B/s]"
      ]
     },
     "metadata": {},
     "output_type": "display_data"
    },
    {
     "data": {
      "application/vnd.jupyter.widget-view+json": {
       "model_id": "29efab1aa62c4abcacb3c2d579a6deaf",
       "version_major": 2,
       "version_minor": 0
      },
      "text/plain": [
       "tokenizer.json:   0%|          | 0.00/2.11M [00:00<?, ?B/s]"
      ]
     },
     "metadata": {},
     "output_type": "display_data"
    },
    {
     "data": {
      "application/vnd.jupyter.widget-view+json": {
       "model_id": "06625be9cfec4169bc4f4a7cc4066528",
       "version_major": 2,
       "version_minor": 0
      },
      "text/plain": [
       "special_tokens_map.json:   0%|          | 0.00/280 [00:00<?, ?B/s]"
      ]
     },
     "metadata": {},
     "output_type": "display_data"
    },
    {
     "data": {
      "application/vnd.jupyter.widget-view+json": {
       "model_id": "4369b3603c5b4f1fabc674923ecab2e2",
       "version_major": 2,
       "version_minor": 0
      },
      "text/plain": [
       "config.json:   0%|          | 0.00/864 [00:00<?, ?B/s]"
      ]
     },
     "metadata": {},
     "output_type": "display_data"
    },
    {
     "data": {
      "application/vnd.jupyter.widget-view+json": {
       "model_id": "40fa94d6f0dc4521ae01c6f3f22e36bd",
       "version_major": 2,
       "version_minor": 0
      },
      "text/plain": [
       "pytorch_model.bin:   0%|          | 0.00/329M [00:00<?, ?B/s]"
      ]
     },
     "metadata": {},
     "output_type": "display_data"
    }
   ],
   "source": [
    "tokenizer = AutoTokenizer.from_pretrained(\"azizbarank/distilroberta-base-sst2-distilled\")\n",
    "model = AutoModelForSequenceClassification.from_pretrained(\"azizbarank/distilroberta-base-sst2-distilled\")"
   ]
  },
  {
   "cell_type": "code",
   "execution_count": 6,
   "id": "752e9035-a138-47cd-8a4e-16b7515a1a41",
   "metadata": {},
   "outputs": [],
   "source": [
    "dataset_test = load_dataset(\"csv\", data_files=\"books_test.csv\")"
   ]
  },
  {
   "cell_type": "code",
   "execution_count": 7,
   "id": "ab661e20-4c3f-418a-a477-06dd26b8b74e",
   "metadata": {},
   "outputs": [],
   "source": [
    "inputs = tokenizer(dataset_test['train']['body'], truncation=True, return_tensors=\"pt\", padding=True)"
   ]
  },
  {
   "cell_type": "code",
   "execution_count": 8,
   "id": "d5b38e5c-b108-4ead-8b90-8a38f1eef10e",
   "metadata": {},
   "outputs": [
    {
     "data": {
      "application/vnd.jupyter.widget-view+json": {
       "model_id": "3d7e8e08cf8147e4942510ca1bcfbd07",
       "version_major": 2,
       "version_minor": 0
      },
      "text/plain": [
       "model.safetensors:   0%|          | 0.00/328M [00:00<?, ?B/s]"
      ]
     },
     "metadata": {},
     "output_type": "display_data"
    }
   ],
   "source": [
    "with torch.no_grad():\n",
    "    logits = model(**inputs).logits"
   ]
  },
  {
   "cell_type": "markdown",
   "id": "f7e9f532-0516-4161-99e7-cce65d65eb56",
   "metadata": {},
   "source": [
    "## Calculating accuracy, precision, F1-score"
   ]
  },
  {
   "cell_type": "code",
   "execution_count": 9,
   "id": "1467ce63-cc55-4447-9c0f-68a21f695f4d",
   "metadata": {},
   "outputs": [],
   "source": [
    "load_accuracy = evaluate.load(\"accuracy\")\n",
    "load_f1 = evaluate.load(\"f1\")\n",
    "labels = dataset_test['train']['label']\n",
    "\n",
    "predictions = np.argmax(logits, axis=-1)\n",
    "accuracy = load_accuracy.compute(predictions=predictions, references=labels)\n",
    "f1 = load_f1.compute(predictions=predictions, references=labels)\n",
    "load_precision = evaluate.load(\"precision\")\n",
    "precision = load_precision.compute(predictions=predictions, references=labels)\n",
    "metrics = {\"accuracy\": accuracy, \"f1\": f1, \"precision\": precision}"
   ]
  },
  {
   "cell_type": "code",
   "execution_count": 10,
   "id": "fb8ef468-cfde-4caf-8f00-f659db7a19c9",
   "metadata": {
    "jupyter": {
     "source_hidden": true
    }
   },
   "outputs": [
    {
     "name": "stdout",
     "output_type": "stream",
     "text": [
      "{'accuracy': {'accuracy': 0.82}, 'f1': {'f1': 0.8615384615384616}, 'precision': {'precision': 0.9655172413793104}}\n"
     ]
    }
   ],
   "source": [
    "print(metrics)"
   ]
  },
  {
   "cell_type": "markdown",
   "id": "3230170c-b125-4711-8efe-2422f26c6929",
   "metadata": {},
   "source": [
    "### Accuracy is 0.82, F1-score is 0.86, precision is 0.97"
   ]
  },
  {
   "cell_type": "code",
   "execution_count": 12,
   "id": "6641adbc-c7fb-4066-a2e3-f7c506984c02",
   "metadata": {},
   "outputs": [],
   "source": [
    "#logits of the inference on the testing data\n",
    "sst_dRob_logits = logits.numpy()"
   ]
  },
  {
   "cell_type": "markdown",
   "id": "736a0451-e23e-4e1d-b76c-f65d74c79976",
   "metadata": {},
   "source": [
    "## PR curve: calculating precision and recall "
   ]
  },
  {
   "cell_type": "code",
   "execution_count": 13,
   "id": "a4556488-86f0-4bff-9479-d590ef94e8d3",
   "metadata": {},
   "outputs": [],
   "source": [
    "y_true = np.array(dataset_test[\"train\"][\"label\"])\n",
    "sst_dRob_precision = []\n",
    "sst_dRob_recall = []\n",
    "sst_dRob_probabilities = softmax(sst_dRob_logits, axis=1)\n",
    "threshold = list(np.arange(0.0, 1, 0.001))\n",
    "for t in threshold:\n",
    "    y_scores = (sst_dRob_probabilities[:, 1] > t).astype(int)\n",
    "    sst_dRob_precision.append(precision_score(y_true, y_scores, zero_division=1))\n",
    "    sst_dRob_recall.append(recall_score(y_true, y_scores, zero_division=1))\n",
    "\n",
    "sst_dRob_precision.append(1)\n",
    "sst_dRob_recall.append(0)"
   ]
  },
  {
   "cell_type": "markdown",
   "id": "3016813b-1b92-4f2f-a612-bce83b157e1f",
   "metadata": {},
   "source": [
    "## Baseline model which always returns the most frequent class"
   ]
  },
  {
   "cell_type": "code",
   "execution_count": 14,
   "id": "de5b1e62-6ee2-4bbd-94ed-e4a20ec852d2",
   "metadata": {},
   "outputs": [],
   "source": [
    "y_score_baseline = np.ones(y_true.shape)\n",
    "baseline_precision = precision_score(y_true, y_score_baseline, zero_division=1)\n",
    "baseline_recall = recall_score(y_true, y_score_baseline, zero_division=1)"
   ]
  },
  {
   "cell_type": "markdown",
   "id": "c2bbfcd6-4b4b-43b8-922a-5e083b1a9389",
   "metadata": {},
   "source": [
    "## Plotting the PR curve"
   ]
  },
  {
   "cell_type": "code",
   "execution_count": 19,
   "id": "e802a610-29a6-4ed2-a3f5-6ad32a5e81e9",
   "metadata": {},
   "outputs": [
    {
     "data": {
      "text/plain": [
       "<matplotlib.legend.Legend at 0x7b4a95ff4650>"
      ]
     },
     "execution_count": 19,
     "metadata": {},
     "output_type": "execute_result"
    },
    {
     "data": {
      "image/png": "[encoded data removed]",
      "text/plain": [
       "<Figure size 640x480 with 1 Axes>"
      ]
     },
     "metadata": {},
     "output_type": "display_data"
    }
   ],
   "source": [
    "fig, ax = plt.subplots()\n",
    "ax.plot(sst_dRob_recall, sst_dRob_precision, '-', label='DistilRoBERTa SST-2')\n",
    "ax.plot([baseline_recall], [baseline_precision], '*', label='Always 1')\n",
    "ax.set_xlabel('Recall')\n",
    "ax.set_ylabel('Precision')\n",
    "ax.set_xlim((0, 1.1))\n",
    "ax.set_ylim((0, 1.1))\n",
    "ax.legend()"
   ]
  },
  {
   "cell_type": "code",
   "execution_count": 17,
   "id": "6818ecd1-2954-4520-94fc-bf217df0dd95",
   "metadata": {},
   "outputs": [],
   "source": [
    "np.savetxt(\"sst_dRob_logits.csv\", sst_dRob_logits, delimiter = \",\")"
   ]
  },
  {
   "cell_type": "markdown",
   "id": "2a2d5852-47ad-423e-8463-dadee1bb005f",
   "metadata": {},
   "source": [
    "## Estimating inference time"
   ]
  },
  {
   "cell_type": "code",
   "execution_count": 18,
   "id": "16c76904-0069-48fb-9c94-ecd5c1096c1b",
   "metadata": {},
   "outputs": [
    {
     "name": "stdout",
     "output_type": "stream",
     "text": [
      "Took 6.807 seconds\n"
     ]
    }
   ],
   "source": [
    "time_start = time.perf_counter()\n",
    "model_cpu = model.to(\"cpu\")\n",
    "\n",
    "for text in dataset_test[\"train\"][\"body\"]:\n",
    "        request = tokenizer(text, return_tensors=\"pt\", truncation=True, padding=True).to('cpu')\n",
    "        outputs = model_cpu(**request)\n",
    "\n",
    "time_end = time.perf_counter()\n",
    "    \n",
    "print(f'Took {(time_end - time_start):.3f} seconds')"
   ]
  },
  {
   "cell_type": "code",
   "execution_count": null,
   "id": "73783410-e2db-4bf9-973d-f50497656c03",
   "metadata": {},
   "outputs": [],
   "source": []
  },
  {
   "cell_type": "code",
   "execution_count": null,
   "id": "ca8444d3-54a4-434b-9ddb-d7498d97f8b1",
   "metadata": {},
   "outputs": [],
   "source": []
  }
 ],
 "metadata": {
  "kernelspec": {
   "display_name": "Python 3 (ipykernel)",
   "language": "python",
   "name": "python3"
  },
  "language_info": {
   "codemirror_mode": {
    "name": "ipython",
    "version": 3
   },
   "file_extension": ".py",
   "mimetype": "text/x-python",
   "name": "python",
   "nbconvert_exporter": "python",
   "pygments_lexer": "ipython3",
   "version": "3.12.3"
  }
 },
 "nbformat": 4,
 "nbformat_minor": 5
}
